{
 "cells": [
  {
   "cell_type": "code",
   "execution_count": 12,
   "metadata": {},
   "outputs": [
    {
     "ename": "KeyboardInterrupt",
     "evalue": "",
     "output_type": "error",
     "traceback": [
      "\u001b[0;31m---------------------------------------------------------------------------\u001b[0m",
      "\u001b[0;31mKeyboardInterrupt\u001b[0m                         Traceback (most recent call last)",
      "\u001b[1;32m/Users/danieldacosta/Documents/USC/dsci551/distributed-file-system/tools.ipynb Cell 1\u001b[0m in \u001b[0;36m<cell line: 1>\u001b[0;34m()\u001b[0m\n\u001b[0;32m----> <a href='vscode-notebook-cell:/Users/danieldacosta/Documents/USC/dsci551/distributed-file-system/tools.ipynb#W0sZmlsZQ%3D%3D?line=0'>1</a>\u001b[0m \u001b[39mfrom\u001b[39;00m \u001b[39medfs\u001b[39;00m\u001b[39m.\u001b[39;00m\u001b[39mfirebase\u001b[39;00m \u001b[39mimport\u001b[39;00m ls, \\\n\u001b[1;32m      <a href='vscode-notebook-cell:/Users/danieldacosta/Documents/USC/dsci551/distributed-file-system/tools.ipynb#W0sZmlsZQ%3D%3D?line=1'>2</a>\u001b[0m     mkdir, rm\n",
      "File \u001b[0;32m~/Documents/USC/dsci551/distributed-file-system/edfs/firebase.py:1\u001b[0m, in \u001b[0;36m<module>\u001b[0;34m\u001b[0m\n\u001b[0;32m----> 1\u001b[0m \u001b[39mimport\u001b[39;00m \u001b[39mpandas\u001b[39;00m \u001b[39mas\u001b[39;00m \u001b[39mpd\u001b[39;00m\n\u001b[1;32m      2\u001b[0m \u001b[39mimport\u001b[39;00m \u001b[39mrequests\u001b[39;00m\n\u001b[1;32m      3\u001b[0m \u001b[39mimport\u001b[39;00m \u001b[39mjson\u001b[39;00m\n",
      "File \u001b[0;32m~/miniconda3/lib/python3.9/site-packages/pandas/__init__.py:22\u001b[0m, in \u001b[0;36m<module>\u001b[0;34m\u001b[0m\n\u001b[1;32m     19\u001b[0m \u001b[39mdel\u001b[39;00m hard_dependencies, dependency, missing_dependencies\n\u001b[1;32m     21\u001b[0m \u001b[39m# numpy compat\u001b[39;00m\n\u001b[0;32m---> 22\u001b[0m \u001b[39mfrom\u001b[39;00m \u001b[39mpandas\u001b[39;00m\u001b[39m.\u001b[39;00m\u001b[39mcompat\u001b[39;00m \u001b[39mimport\u001b[39;00m is_numpy_dev \u001b[39mas\u001b[39;00m _is_numpy_dev\n\u001b[1;32m     24\u001b[0m \u001b[39mtry\u001b[39;00m:\n\u001b[1;32m     25\u001b[0m     \u001b[39mfrom\u001b[39;00m \u001b[39mpandas\u001b[39;00m\u001b[39m.\u001b[39;00m\u001b[39m_libs\u001b[39;00m \u001b[39mimport\u001b[39;00m hashtable \u001b[39mas\u001b[39;00m _hashtable, lib \u001b[39mas\u001b[39;00m _lib, tslib \u001b[39mas\u001b[39;00m _tslib\n",
      "File \u001b[0;32m~/miniconda3/lib/python3.9/site-packages/pandas/compat/__init__.py:20\u001b[0m, in \u001b[0;36m<module>\u001b[0;34m\u001b[0m\n\u001b[1;32m     14\u001b[0m \u001b[39mfrom\u001b[39;00m \u001b[39mpandas\u001b[39;00m\u001b[39m.\u001b[39;00m\u001b[39m_typing\u001b[39;00m \u001b[39mimport\u001b[39;00m F\n\u001b[1;32m     15\u001b[0m \u001b[39mfrom\u001b[39;00m \u001b[39mpandas\u001b[39;00m\u001b[39m.\u001b[39;00m\u001b[39mcompat\u001b[39;00m\u001b[39m.\u001b[39;00m\u001b[39mnumpy\u001b[39;00m \u001b[39mimport\u001b[39;00m (\n\u001b[1;32m     16\u001b[0m     is_numpy_dev,\n\u001b[1;32m     17\u001b[0m     np_version_under1p19,\n\u001b[1;32m     18\u001b[0m     np_version_under1p20,\n\u001b[1;32m     19\u001b[0m )\n\u001b[0;32m---> 20\u001b[0m \u001b[39mfrom\u001b[39;00m \u001b[39mpandas\u001b[39;00m\u001b[39m.\u001b[39;00m\u001b[39mcompat\u001b[39;00m\u001b[39m.\u001b[39;00m\u001b[39mpyarrow\u001b[39;00m \u001b[39mimport\u001b[39;00m (\n\u001b[1;32m     21\u001b[0m     pa_version_under1p01,\n\u001b[1;32m     22\u001b[0m     pa_version_under2p0,\n\u001b[1;32m     23\u001b[0m     pa_version_under3p0,\n\u001b[1;32m     24\u001b[0m     pa_version_under4p0,\n\u001b[1;32m     25\u001b[0m )\n\u001b[1;32m     27\u001b[0m PY39 \u001b[39m=\u001b[39m sys\u001b[39m.\u001b[39mversion_info \u001b[39m>\u001b[39m\u001b[39m=\u001b[39m (\u001b[39m3\u001b[39m, \u001b[39m9\u001b[39m)\n\u001b[1;32m     28\u001b[0m PY310 \u001b[39m=\u001b[39m sys\u001b[39m.\u001b[39mversion_info \u001b[39m>\u001b[39m\u001b[39m=\u001b[39m (\u001b[39m3\u001b[39m, \u001b[39m10\u001b[39m)\n",
      "File \u001b[0;32m~/miniconda3/lib/python3.9/site-packages/pandas/compat/pyarrow.py:6\u001b[0m, in \u001b[0;36m<module>\u001b[0;34m\u001b[0m\n\u001b[1;32m      3\u001b[0m \u001b[39mfrom\u001b[39;00m \u001b[39mpandas\u001b[39;00m\u001b[39m.\u001b[39;00m\u001b[39mutil\u001b[39;00m\u001b[39m.\u001b[39;00m\u001b[39mversion\u001b[39;00m \u001b[39mimport\u001b[39;00m Version\n\u001b[1;32m      5\u001b[0m \u001b[39mtry\u001b[39;00m:\n\u001b[0;32m----> 6\u001b[0m     \u001b[39mimport\u001b[39;00m \u001b[39mpyarrow\u001b[39;00m \u001b[39mas\u001b[39;00m \u001b[39mpa\u001b[39;00m\n\u001b[1;32m      8\u001b[0m     _pa_version \u001b[39m=\u001b[39m pa\u001b[39m.\u001b[39m__version__\n\u001b[1;32m      9\u001b[0m     _palv \u001b[39m=\u001b[39m Version(_pa_version)\n",
      "File \u001b[0;32m~/miniconda3/lib/python3.9/site-packages/pyarrow/__init__.py:65\u001b[0m, in \u001b[0;36m<module>\u001b[0;34m\u001b[0m\n\u001b[1;32m     63\u001b[0m _gc_enabled \u001b[39m=\u001b[39m _gc\u001b[39m.\u001b[39misenabled()\n\u001b[1;32m     64\u001b[0m _gc\u001b[39m.\u001b[39mdisable()\n\u001b[0;32m---> 65\u001b[0m \u001b[39mimport\u001b[39;00m \u001b[39mpyarrow\u001b[39;00m\u001b[39m.\u001b[39;00m\u001b[39mlib\u001b[39;00m \u001b[39mas\u001b[39;00m \u001b[39m_lib\u001b[39;00m\n\u001b[1;32m     66\u001b[0m \u001b[39mif\u001b[39;00m _gc_enabled:\n\u001b[1;32m     67\u001b[0m     _gc\u001b[39m.\u001b[39menable()\n",
      "File \u001b[0;32m<frozen importlib._bootstrap>:398\u001b[0m, in \u001b[0;36mparent\u001b[0;34m(self)\u001b[0m\n",
      "\u001b[0;31mKeyboardInterrupt\u001b[0m: "
     ]
    }
   ],
   "source": [
    "from edfs.firebase import ls, \\\n",
    "    mkdir, rm\n"
   ]
  },
  {
   "cell_type": "code",
   "execution_count": null,
   "metadata": {},
   "outputs": [],
   "source": [
    "import pandas as pd\n",
    "import requests\n",
    "import json\n",
    "\n",
    "firebase_url = 'https://dsci551-project-52d43-default-rtdb.firebaseio.com/'\n",
    "\n",
    "def seek(path):\n",
    "    url = firebase_url + path + '.json'\n",
    "    try:\n",
    "        rget = requests.get(url)\n",
    "        return rget\n",
    "    except:\n",
    "        print('ERROR')\n",
    "        \n",
    "\n",
    "def ls(path: str) -> str:\n",
    "    '''List files under path/.\n",
    "\n",
    "    Args:\n",
    "        path (str): path starting from NameNode/\n",
    "    Returns:\n",
    "        (str) Success or Error message\n",
    "    '''\n",
    "    slist = seek(f\"NameNode/{path}\")\n",
    "    rlist = slist.json()\n",
    "\n",
    "    result_list = []\n",
    "\n",
    "    if type(rlist) == dict: # iterate over rlist if rlist != None\n",
    "        for key, value in rlist.items():\n",
    "            if key == \"_\": # empty directory\n",
    "                continue\n",
    "            if type(value) == dict: # if item is folder, add '/' to the end of thge string\n",
    "                result_list.append(key + \"/\")\n",
    "            else:\n",
    "                result_list.append(key)\n",
    "        output = 'empty' if not result_list else ', '.join(result_list)\n",
    "    elif not rlist:\n",
    "        output = f'Path {path} not found'\n",
    "    else: \n",
    "        output = f'{path} is not a folder'\n",
    "    \n",
    "    return output\n",
    "\n",
    "def mkdir(path: str) -> str:\n",
    "    '''Create directory if not exists\n",
    "\n",
    "    Args:\n",
    "        path: relative path to NameNode/\n",
    "    Returns:\n",
    "        (str) Success or Error message\n",
    "    '''\n",
    "    full_path = f'NameNode/{path}'\n",
    "    if seek(full_path).json() is None:\n",
    "        url = firebase_url + full_path + '.json'\n",
    "        data = '{\"_\" : \"_\"}' # empty directory\n",
    "        r = requests.put(url,data)\n",
    "        output = f'Directory {path} created'\n",
    "    else:\n",
    "        output  = 'Directory ' + path + ' already exists'\n",
    "    return output"
   ]
  },
  {
   "cell_type": "code",
   "execution_count": null,
   "metadata": {},
   "outputs": [],
   "source": [
    "def rm(path: str) -> str:\n",
    "    '''Delete directory if exists\n",
    "\n",
    "    Args:\n",
    "        path: relative path to NameNode/\n",
    "    Returns:\n",
    "        (str) Success or Error message\n",
    "    '''\n",
    "    full_path = f'NameNode/{path}'\n",
    "    if seek(full_path).json() is None:\n",
    "        output = 'Directory not found'\n",
    "    else:\n",
    "        url = firebase_url + full_path + '.json'\n",
    "        d = requests.delete(url)\n",
    "        if d.status_code == 200:\n",
    "            output = path + ' was succefully deleted'\n",
    "    return output"
   ]
  },
  {
   "cell_type": "code",
   "execution_count": null,
   "metadata": {},
   "outputs": [],
   "source": [
    "def getPartitionLocation(file: str) -> str:\n",
    "    '''Return the locations of partitions of the\n",
    "        file\n",
    "    Args:\n",
    "        file (str): relative path to NameNode/\n",
    "    Returns:\n",
    "        (str) Success or Error message\n",
    "    '''\n",
    "    path = \"NameNode/\" + file + \"/partitions\"\n",
    "    rpath = seek(path)\n",
    "    partition = requests.get(rpath.url)\n",
    "    pdict = partition.json()       \n",
    "\n",
    "    if pdict is None:\n",
    "        output = f'Partitions for {file} not found'\n",
    "    else:\n",
    "        output = json.dumps(pdict, indent=4, sort_keys=True) # Organizing the data\n",
    "    \n",
    "    return output"
   ]
  },
  {
   "cell_type": "code",
   "execution_count": null,
   "metadata": {},
   "outputs": [],
   "source": [
    "functions = {\n",
    "    'ls': ls, 'mkdir': mkdir, 'rm': rm,\n",
    "    'readPartition': readPartition,\n",
    "    'getPartitionLocation': getPartitionLocation\n",
    "}"
   ]
  },
  {
   "cell_type": "code",
   "execution_count": null,
   "metadata": {},
   "outputs": [],
   "source": [
    "input_text = 'readPartition root/user/Stats_Cap_Ind Argentina'\n",
    "input = input_text.split(' ')\n",
    "function_name = input[0]\n",
    "params = input[1:]"
   ]
  },
  {
   "cell_type": "code",
   "execution_count": null,
   "metadata": {},
   "outputs": [],
   "source": [
    "# functions[function_name](*params)"
   ]
  },
  {
   "cell_type": "code",
   "execution_count": null,
   "metadata": {},
   "outputs": [
    {
     "data": {
      "text/plain": [
       "'Partitions for Stats_Cap_Ind not found'"
      ]
     },
     "execution_count": 35,
     "metadata": {},
     "output_type": "execute_result"
    }
   ],
   "source": [
    "getPartitionLocation(\"Stats_Cap_Ind\")"
   ]
  },
  {
   "cell_type": "code",
   "execution_count": null,
   "metadata": {},
   "outputs": [],
   "source": [
    "def readPartition(file, partition) -> str:\n",
    "    '''Return the content of partition # of\n",
    "    the specified file\n",
    "    Args:\n",
    "        file (str): relative path to NameNode/\n",
    "        partition (str):  name of the partition\n",
    "    Returns:\n",
    "        (str) Success or Error message\n",
    "    '''\n",
    "    try:\n",
    "        pdict = json.loads(getPartitionLocation(file))\n",
    "        url = pdict[partition]\n",
    "        pdict = requests.get(url).json()\n",
    "        output = json.dumps(pdict, indent=4, sort_keys=True)\n",
    "    except:\n",
    "        output = 'Partition not found'\n",
    "    return output"
   ]
  },
  {
   "cell_type": "code",
   "execution_count": null,
   "metadata": {},
   "outputs": [],
   "source": [
    "def readUrl(url) -> json:\n",
    "    return requests.get(url).json()"
   ]
  },
  {
   "cell_type": "code",
   "execution_count": null,
   "metadata": {},
   "outputs": [],
   "source": [
    "a = readUrl(\"https://dsci551-project-52d43-default-rtdb.firebaseio.com/DataNode/Afghanistan/Stats_Cap_Ind.json\")"
   ]
  },
  {
   "cell_type": "code",
   "execution_count": null,
   "metadata": {},
   "outputs": [],
   "source": [
    "file = \"root/user/dasdasd\"\n",
    "path = \"NameNode/\" + file + \"/partitions\"\n",
    "rpath = seek(path)"
   ]
  },
  {
   "cell_type": "code",
   "execution_count": null,
   "metadata": {},
   "outputs": [],
   "source": [
    "rpath.json()"
   ]
  },
  {
   "cell_type": "code",
   "execution_count": null,
   "metadata": {},
   "outputs": [],
   "source": [
    "a = \"\\n\".join(\"{}\\t{}\".format(k, v) for k, v in result.items())"
   ]
  },
  {
   "cell_type": "code",
   "execution_count": null,
   "metadata": {},
   "outputs": [],
   "source": [
    "def search_partitions(country_name: list, file_name: str, series_name: str):\n",
    "    list_partitions = []\n",
    "    partitions = getPartitionLocation(f\"root/user/{file_name}\")\n",
    "    partitions = json.loads(partitions)\n",
    "    for country in country_name:\n",
    "        list_partitions.append(partitions.get(country))\n",
    "    return list_partitions"
   ]
  },
  {
   "cell_type": "code",
   "execution_count": null,
   "metadata": {},
   "outputs": [],
   "source": [
    "from functools import reduce"
   ]
  },
  {
   "cell_type": "code",
   "execution_count": null,
   "metadata": {},
   "outputs": [],
   "source": [
    "def _sum(a, b):\n",
    "    return a + b\n",
    "\n",
    "def _sum2(a, b, c):\n",
    "    return a + b\n",
    "\n",
    "def _count(a, b):\n",
    "    return a + 1"
   ]
  },
  {
   "cell_type": "code",
   "execution_count": null,
   "metadata": {},
   "outputs": [],
   "source": [
    "def readUrl(url, filter_year: list = [], index:str = 'year') -> json:\n",
    "\n",
    "    filter_str = ''\n",
    "    if filter_year:\n",
    "        filter_str = f\"\"\"?orderBy=\"{index}\"&startAt={filter_year[0]}&endAt={filter_year[1]}\"\"\"\n",
    "    return requests.get(f\"{url}{filter_str}\").json()"
   ]
  },
  {
   "cell_type": "code",
   "execution_count": null,
   "metadata": {},
   "outputs": [
    {
     "data": {
      "text/plain": [
       "{'error': 'Index not defined, add \".indexOn\": \"year\", for path \"/DataNode/Afghanistan/Stats_Cap_Ind\", to the rules'}"
      ]
     },
     "execution_count": 105,
     "metadata": {},
     "output_type": "execute_result"
    }
   ],
   "source": [
    "readUrl('https://dsci551-project-52d43-default-rtdb.firebaseio.com/DataNode/Afghanistan/Stats_Cap_Ind.json', [2005, 2007])"
   ]
  },
  {
   "cell_type": "code",
   "execution_count": null,
   "metadata": {},
   "outputs": [],
   "source": [
    "def map_partitions(partitions: list):\n",
    "    list_of_result = []\n",
    "    for partition in partitions:\n",
    "        # print(partition)\n",
    "        # result = sum(partition)\n",
    "        result = reduce(_sum, partition)\n",
    "        list_of_result.append(result)\n",
    "    return list_of_result\n"
   ]
  },
  {
   "cell_type": "code",
   "execution_count": null,
   "metadata": {},
   "outputs": [
    {
     "data": {
      "text/plain": [
       "[7, 4]"
      ]
     },
     "execution_count": 92,
     "metadata": {},
     "output_type": "execute_result"
    }
   ],
   "source": [
    "map_partitions([[1,2,3,1], [1,1,1,1]])"
   ]
  },
  {
   "cell_type": "code",
   "execution_count": null,
   "metadata": {},
   "outputs": [],
   "source": [
    "# reduce(_sum2, [1,2,3])"
   ]
  },
  {
   "cell_type": "code",
   "execution_count": null,
   "metadata": {},
   "outputs": [
    {
     "data": {
      "text/plain": [
       "2"
      ]
     },
     "execution_count": 87,
     "metadata": {},
     "output_type": "execute_result"
    }
   ],
   "source": [
    "reduce(_count, [[1,2,3,1], [1,1,1,1]], 0)"
   ]
  },
  {
   "cell_type": "code",
   "execution_count": null,
   "metadata": {},
   "outputs": [
    {
     "data": {
      "text/plain": [
       "['https://dsci551-project-52d43-default-rtdb.firebaseio.com/DataNode/Afghanistan/Stats_Cap_Ind.json',\n",
       " 'https://dsci551-project-52d43-default-rtdb.firebaseio.com/DataNode/Azerbaijan/Stats_Cap_Ind.json']"
      ]
     },
     "execution_count": 44,
     "metadata": {},
     "output_type": "execute_result"
    }
   ],
   "source": [
    "search_partitions([\"Afghanistan\", \"Azerbaijan\"], 'Stats_Cap_Ind', None)"
   ]
  },
  {
   "cell_type": "code",
   "execution_count": null,
   "metadata": {},
   "outputs": [],
   "source": [
    "import json\n",
    "a = json.dumps(result, indent=4, sort_keys=True)"
   ]
  },
  {
   "cell_type": "code",
   "execution_count": null,
   "metadata": {},
   "outputs": [],
   "source": [
    "file = \"root/user/Stats_Cap_Ind\"\n",
    "result = getPartitionLocation(file)"
   ]
  },
  {
   "cell_type": "code",
   "execution_count": null,
   "metadata": {},
   "outputs": [
    {
     "data": {
      "text/plain": [
       "'{\\n    \"Afghanistan\": \"https://dsci551-project-52d43-default-rtdb.firebaseio.com/DataNode/Afghanistan/Stats_Cap_Ind.json\",\\n    \"Albania\": \"https://dsci551-project-52d43-default-rtdb.firebaseio.com/DataNode/Albania/Stats_Cap_Ind.json\",\\n    \"Algeria\": \"https://dsci551-project-52d43-default-rtdb.firebaseio.com/DataNode/Algeria/Stats_Cap_Ind.json\",\\n    \"Angola\": \"https://dsci551-project-52d43-default-rtdb.firebaseio.com/DataNode/Angola/Stats_Cap_Ind.json\",\\n    \"Antigua_and_Barbuda\": \"https://dsci551-project-52d43-default-rtdb.firebaseio.com/DataNode/Antigua_and_Barbuda/Stats_Cap_Ind.json\",\\n    \"Argentina\": \"https://dsci551-project-52d43-default-rtdb.firebaseio.com/DataNode/Argentina/Stats_Cap_Ind.json\",\\n    \"Armenia\": \"https://dsci551-project-52d43-default-rtdb.firebaseio.com/DataNode/Armenia/Stats_Cap_Ind.json\",\\n    \"Azerbaijan\": \"https://dsci551-project-52d43-default-rtdb.firebaseio.com/DataNode/Azerbaijan/Stats_Cap_Ind.json\",\\n    \"Bangladesh\": \"https://dsci551-project-52d43-default-rtdb.firebaseio.com/DataNode/Bangladesh/Stats_Cap_Ind.json\",\\n    \"Belarus\": \"https://dsci551-project-52d43-default-rtdb.firebaseio.com/DataNode/Belarus/Stats_Cap_Ind.json\",\\n    \"Belize\": \"https://dsci551-project-52d43-default-rtdb.firebaseio.com/DataNode/Belize/Stats_Cap_Ind.json\",\\n    \"Benin\": \"https://dsci551-project-52d43-default-rtdb.firebaseio.com/DataNode/Benin/Stats_Cap_Ind.json\",\\n    \"Bhutan\": \"https://dsci551-project-52d43-default-rtdb.firebaseio.com/DataNode/Bhutan/Stats_Cap_Ind.json\",\\n    \"Bolivia\": \"https://dsci551-project-52d43-default-rtdb.firebaseio.com/DataNode/Bolivia/Stats_Cap_Ind.json\",\\n    \"Bosnia_and_Herzegovina\": \"https://dsci551-project-52d43-default-rtdb.firebaseio.com/DataNode/Bosnia_and_Herzegovina/Stats_Cap_Ind.json\",\\n    \"Botswana\": \"https://dsci551-project-52d43-default-rtdb.firebaseio.com/DataNode/Botswana/Stats_Cap_Ind.json\",\\n    \"Brazil\": \"https://dsci551-project-52d43-default-rtdb.firebaseio.com/DataNode/Brazil/Stats_Cap_Ind.json\",\\n    \"Bulgaria\": \"https://dsci551-project-52d43-default-rtdb.firebaseio.com/DataNode/Bulgaria/Stats_Cap_Ind.json\",\\n    \"Burkina_Faso\": \"https://dsci551-project-52d43-default-rtdb.firebaseio.com/DataNode/Burkina_Faso/Stats_Cap_Ind.json\",\\n    \"Burundi\": \"https://dsci551-project-52d43-default-rtdb.firebaseio.com/DataNode/Burundi/Stats_Cap_Ind.json\",\\n    \"Cabo_Verde\": \"https://dsci551-project-52d43-default-rtdb.firebaseio.com/DataNode/Cabo_Verde/Stats_Cap_Ind.json\",\\n    \"Cambodia\": \"https://dsci551-project-52d43-default-rtdb.firebaseio.com/DataNode/Cambodia/Stats_Cap_Ind.json\",\\n    \"Cameroon\": \"https://dsci551-project-52d43-default-rtdb.firebaseio.com/DataNode/Cameroon/Stats_Cap_Ind.json\",\\n    \"Central_African_Republic\": \"https://dsci551-project-52d43-default-rtdb.firebaseio.com/DataNode/Central_African_Republic/Stats_Cap_Ind.json\",\\n    \"Chad\": \"https://dsci551-project-52d43-default-rtdb.firebaseio.com/DataNode/Chad/Stats_Cap_Ind.json\",\\n    \"Chile\": \"https://dsci551-project-52d43-default-rtdb.firebaseio.com/DataNode/Chile/Stats_Cap_Ind.json\",\\n    \"China\": \"https://dsci551-project-52d43-default-rtdb.firebaseio.com/DataNode/China/Stats_Cap_Ind.json\",\\n    \"Colombia\": \"https://dsci551-project-52d43-default-rtdb.firebaseio.com/DataNode/Colombia/Stats_Cap_Ind.json\",\\n    \"Comoros\": \"https://dsci551-project-52d43-default-rtdb.firebaseio.com/DataNode/Comoros/Stats_Cap_Ind.json\",\\n    \"Congo_Dem_Rep\": \"https://dsci551-project-52d43-default-rtdb.firebaseio.com/DataNode/Congo_Dem_Rep/Stats_Cap_Ind.json\",\\n    \"Congo_Rep\": \"https://dsci551-project-52d43-default-rtdb.firebaseio.com/DataNode/Congo_Rep/Stats_Cap_Ind.json\",\\n    \"Costa_Rica\": \"https://dsci551-project-52d43-default-rtdb.firebaseio.com/DataNode/Costa_Rica/Stats_Cap_Ind.json\",\\n    \"Cote_dIvoire\": \"https://dsci551-project-52d43-default-rtdb.firebaseio.com/DataNode/Cote_dIvoire/Stats_Cap_Ind.json\",\\n    \"Croatia\": \"https://dsci551-project-52d43-default-rtdb.firebaseio.com/DataNode/Croatia/Stats_Cap_Ind.json\",\\n    \"Djibouti\": \"https://dsci551-project-52d43-default-rtdb.firebaseio.com/DataNode/Djibouti/Stats_Cap_Ind.json\",\\n    \"Dominica\": \"https://dsci551-project-52d43-default-rtdb.firebaseio.com/DataNode/Dominica/Stats_Cap_Ind.json\",\\n    \"Dominican_Republic\": \"https://dsci551-project-52d43-default-rtdb.firebaseio.com/DataNode/Dominican_Republic/Stats_Cap_Ind.json\",\\n    \"East_Asia__Pacific_excluding_high_income\": \"https://dsci551-project-52d43-default-rtdb.firebaseio.com/DataNode/East_Asia__Pacific_excluding_high_income/Stats_Cap_Ind.json\",\\n    \"Ecuador\": \"https://dsci551-project-52d43-default-rtdb.firebaseio.com/DataNode/Ecuador/Stats_Cap_Ind.json\",\\n    \"Egypt_Arab_Rep\": \"https://dsci551-project-52d43-default-rtdb.firebaseio.com/DataNode/Egypt_Arab_Rep/Stats_Cap_Ind.json\",\\n    \"El_Salvador\": \"https://dsci551-project-52d43-default-rtdb.firebaseio.com/DataNode/El_Salvador/Stats_Cap_Ind.json\",\\n    \"Equatorial_Guinea\": \"https://dsci551-project-52d43-default-rtdb.firebaseio.com/DataNode/Equatorial_Guinea/Stats_Cap_Ind.json\",\\n    \"Eritrea\": \"https://dsci551-project-52d43-default-rtdb.firebaseio.com/DataNode/Eritrea/Stats_Cap_Ind.json\",\\n    \"Eswatini\": \"https://dsci551-project-52d43-default-rtdb.firebaseio.com/DataNode/Eswatini/Stats_Cap_Ind.json\",\\n    \"Ethiopia\": \"https://dsci551-project-52d43-default-rtdb.firebaseio.com/DataNode/Ethiopia/Stats_Cap_Ind.json\",\\n    \"Europe__Central_Asia_excluding_high_income\": \"https://dsci551-project-52d43-default-rtdb.firebaseio.com/DataNode/Europe__Central_Asia_excluding_high_income/Stats_Cap_Ind.json\",\\n    \"Fiji\": \"https://dsci551-project-52d43-default-rtdb.firebaseio.com/DataNode/Fiji/Stats_Cap_Ind.json\",\\n    \"Gabon\": \"https://dsci551-project-52d43-default-rtdb.firebaseio.com/DataNode/Gabon/Stats_Cap_Ind.json\",\\n    \"Gambia_The\": \"https://dsci551-project-52d43-default-rtdb.firebaseio.com/DataNode/Gambia_The/Stats_Cap_Ind.json\",\\n    \"Georgia\": \"https://dsci551-project-52d43-default-rtdb.firebaseio.com/DataNode/Georgia/Stats_Cap_Ind.json\",\\n    \"Ghana\": \"https://dsci551-project-52d43-default-rtdb.firebaseio.com/DataNode/Ghana/Stats_Cap_Ind.json\",\\n    \"Grenada\": \"https://dsci551-project-52d43-default-rtdb.firebaseio.com/DataNode/Grenada/Stats_Cap_Ind.json\",\\n    \"Guatemala\": \"https://dsci551-project-52d43-default-rtdb.firebaseio.com/DataNode/Guatemala/Stats_Cap_Ind.json\",\\n    \"Guinea\": \"https://dsci551-project-52d43-default-rtdb.firebaseio.com/DataNode/Guinea/Stats_Cap_Ind.json\",\\n    \"GuineaBissau\": \"https://dsci551-project-52d43-default-rtdb.firebaseio.com/DataNode/GuineaBissau/Stats_Cap_Ind.json\",\\n    \"Guyana\": \"https://dsci551-project-52d43-default-rtdb.firebaseio.com/DataNode/Guyana/Stats_Cap_Ind.json\",\\n    \"Haiti\": \"https://dsci551-project-52d43-default-rtdb.firebaseio.com/DataNode/Haiti/Stats_Cap_Ind.json\",\\n    \"Honduras\": \"https://dsci551-project-52d43-default-rtdb.firebaseio.com/DataNode/Honduras/Stats_Cap_Ind.json\",\\n    \"IBRD_only\": \"https://dsci551-project-52d43-default-rtdb.firebaseio.com/DataNode/IBRD_only/Stats_Cap_Ind.json\",\\n    \"IDA__IBRD_total\": \"https://dsci551-project-52d43-default-rtdb.firebaseio.com/DataNode/IDA__IBRD_total/Stats_Cap_Ind.json\",\\n    \"IDA_total\": \"https://dsci551-project-52d43-default-rtdb.firebaseio.com/DataNode/IDA_total/Stats_Cap_Ind.json\",\\n    \"India\": \"https://dsci551-project-52d43-default-rtdb.firebaseio.com/DataNode/India/Stats_Cap_Ind.json\",\\n    \"Indonesia\": \"https://dsci551-project-52d43-default-rtdb.firebaseio.com/DataNode/Indonesia/Stats_Cap_Ind.json\",\\n    \"Iran_Islamic_Rep\": \"https://dsci551-project-52d43-default-rtdb.firebaseio.com/DataNode/Iran_Islamic_Rep/Stats_Cap_Ind.json\",\\n    \"Iraq\": \"https://dsci551-project-52d43-default-rtdb.firebaseio.com/DataNode/Iraq/Stats_Cap_Ind.json\",\\n    \"Jamaica\": \"https://dsci551-project-52d43-default-rtdb.firebaseio.com/DataNode/Jamaica/Stats_Cap_Ind.json\",\\n    \"Jordan\": \"https://dsci551-project-52d43-default-rtdb.firebaseio.com/DataNode/Jordan/Stats_Cap_Ind.json\",\\n    \"Kazakhstan\": \"https://dsci551-project-52d43-default-rtdb.firebaseio.com/DataNode/Kazakhstan/Stats_Cap_Ind.json\",\\n    \"Kenya\": \"https://dsci551-project-52d43-default-rtdb.firebaseio.com/DataNode/Kenya/Stats_Cap_Ind.json\",\\n    \"Kiribati\": \"https://dsci551-project-52d43-default-rtdb.firebaseio.com/DataNode/Kiribati/Stats_Cap_Ind.json\",\\n    \"Kosovo\": \"https://dsci551-project-52d43-default-rtdb.firebaseio.com/DataNode/Kosovo/Stats_Cap_Ind.json\",\\n    \"Kyrgyz_Republic\": \"https://dsci551-project-52d43-default-rtdb.firebaseio.com/DataNode/Kyrgyz_Republic/Stats_Cap_Ind.json\",\\n    \"Lao_PDR\": \"https://dsci551-project-52d43-default-rtdb.firebaseio.com/DataNode/Lao_PDR/Stats_Cap_Ind.json\",\\n    \"Latin_America__Caribbean_excluding_high_income\": \"https://dsci551-project-52d43-default-rtdb.firebaseio.com/DataNode/Latin_America__Caribbean_excluding_high_income/Stats_Cap_Ind.json\",\\n    \"Lebanon\": \"https://dsci551-project-52d43-default-rtdb.firebaseio.com/DataNode/Lebanon/Stats_Cap_Ind.json\",\\n    \"Lesotho\": \"https://dsci551-project-52d43-default-rtdb.firebaseio.com/DataNode/Lesotho/Stats_Cap_Ind.json\",\\n    \"Liberia\": \"https://dsci551-project-52d43-default-rtdb.firebaseio.com/DataNode/Liberia/Stats_Cap_Ind.json\",\\n    \"Libya\": \"https://dsci551-project-52d43-default-rtdb.firebaseio.com/DataNode/Libya/Stats_Cap_Ind.json\",\\n    \"Madagascar\": \"https://dsci551-project-52d43-default-rtdb.firebaseio.com/DataNode/Madagascar/Stats_Cap_Ind.json\",\\n    \"Malawi\": \"https://dsci551-project-52d43-default-rtdb.firebaseio.com/DataNode/Malawi/Stats_Cap_Ind.json\",\\n    \"Malaysia\": \"https://dsci551-project-52d43-default-rtdb.firebaseio.com/DataNode/Malaysia/Stats_Cap_Ind.json\",\\n    \"Maldives\": \"https://dsci551-project-52d43-default-rtdb.firebaseio.com/DataNode/Maldives/Stats_Cap_Ind.json\",\\n    \"Mali\": \"https://dsci551-project-52d43-default-rtdb.firebaseio.com/DataNode/Mali/Stats_Cap_Ind.json\",\\n    \"Marshall_Islands\": \"https://dsci551-project-52d43-default-rtdb.firebaseio.com/DataNode/Marshall_Islands/Stats_Cap_Ind.json\",\\n    \"Mauritania\": \"https://dsci551-project-52d43-default-rtdb.firebaseio.com/DataNode/Mauritania/Stats_Cap_Ind.json\",\\n    \"Mauritius\": \"https://dsci551-project-52d43-default-rtdb.firebaseio.com/DataNode/Mauritius/Stats_Cap_Ind.json\",\\n    \"Mexico\": \"https://dsci551-project-52d43-default-rtdb.firebaseio.com/DataNode/Mexico/Stats_Cap_Ind.json\",\\n    \"Micronesia_Fed_Sts\": \"https://dsci551-project-52d43-default-rtdb.firebaseio.com/DataNode/Micronesia_Fed_Sts/Stats_Cap_Ind.json\",\\n    \"Middle_East__North_Africa_excluding_high_income\": \"https://dsci551-project-52d43-default-rtdb.firebaseio.com/DataNode/Middle_East__North_Africa_excluding_high_income/Stats_Cap_Ind.json\",\\n    \"Moldova\": \"https://dsci551-project-52d43-default-rtdb.firebaseio.com/DataNode/Moldova/Stats_Cap_Ind.json\",\\n    \"Mongolia\": \"https://dsci551-project-52d43-default-rtdb.firebaseio.com/DataNode/Mongolia/Stats_Cap_Ind.json\",\\n    \"Montenegro\": \"https://dsci551-project-52d43-default-rtdb.firebaseio.com/DataNode/Montenegro/Stats_Cap_Ind.json\",\\n    \"Morocco\": \"https://dsci551-project-52d43-default-rtdb.firebaseio.com/DataNode/Morocco/Stats_Cap_Ind.json\",\\n    \"Mozambique\": \"https://dsci551-project-52d43-default-rtdb.firebaseio.com/DataNode/Mozambique/Stats_Cap_Ind.json\",\\n    \"Myanmar\": \"https://dsci551-project-52d43-default-rtdb.firebaseio.com/DataNode/Myanmar/Stats_Cap_Ind.json\",\\n    \"Namibia\": \"https://dsci551-project-52d43-default-rtdb.firebaseio.com/DataNode/Namibia/Stats_Cap_Ind.json\",\\n    \"Nauru\": \"https://dsci551-project-52d43-default-rtdb.firebaseio.com/DataNode/Nauru/Stats_Cap_Ind.json\",\\n    \"Nepal\": \"https://dsci551-project-52d43-default-rtdb.firebaseio.com/DataNode/Nepal/Stats_Cap_Ind.json\",\\n    \"Nicaragua\": \"https://dsci551-project-52d43-default-rtdb.firebaseio.com/DataNode/Nicaragua/Stats_Cap_Ind.json\",\\n    \"Niger\": \"https://dsci551-project-52d43-default-rtdb.firebaseio.com/DataNode/Niger/Stats_Cap_Ind.json\",\\n    \"Nigeria\": \"https://dsci551-project-52d43-default-rtdb.firebaseio.com/DataNode/Nigeria/Stats_Cap_Ind.json\",\\n    \"North_Macedonia\": \"https://dsci551-project-52d43-default-rtdb.firebaseio.com/DataNode/North_Macedonia/Stats_Cap_Ind.json\",\\n    \"Pakistan\": \"https://dsci551-project-52d43-default-rtdb.firebaseio.com/DataNode/Pakistan/Stats_Cap_Ind.json\",\\n    \"Palau\": \"https://dsci551-project-52d43-default-rtdb.firebaseio.com/DataNode/Palau/Stats_Cap_Ind.json\",\\n    \"Panama\": \"https://dsci551-project-52d43-default-rtdb.firebaseio.com/DataNode/Panama/Stats_Cap_Ind.json\",\\n    \"Papua_New_Guinea\": \"https://dsci551-project-52d43-default-rtdb.firebaseio.com/DataNode/Papua_New_Guinea/Stats_Cap_Ind.json\",\\n    \"Paraguay\": \"https://dsci551-project-52d43-default-rtdb.firebaseio.com/DataNode/Paraguay/Stats_Cap_Ind.json\",\\n    \"Peru\": \"https://dsci551-project-52d43-default-rtdb.firebaseio.com/DataNode/Peru/Stats_Cap_Ind.json\",\\n    \"Philippines\": \"https://dsci551-project-52d43-default-rtdb.firebaseio.com/DataNode/Philippines/Stats_Cap_Ind.json\",\\n    \"Poland\": \"https://dsci551-project-52d43-default-rtdb.firebaseio.com/DataNode/Poland/Stats_Cap_Ind.json\",\\n    \"Romania\": \"https://dsci551-project-52d43-default-rtdb.firebaseio.com/DataNode/Romania/Stats_Cap_Ind.json\",\\n    \"Russian_Federation\": \"https://dsci551-project-52d43-default-rtdb.firebaseio.com/DataNode/Russian_Federation/Stats_Cap_Ind.json\",\\n    \"Rwanda\": \"https://dsci551-project-52d43-default-rtdb.firebaseio.com/DataNode/Rwanda/Stats_Cap_Ind.json\",\\n    \"Samoa\": \"https://dsci551-project-52d43-default-rtdb.firebaseio.com/DataNode/Samoa/Stats_Cap_Ind.json\",\\n    \"Sao_Tome_and_Principe\": \"https://dsci551-project-52d43-default-rtdb.firebaseio.com/DataNode/Sao_Tome_and_Principe/Stats_Cap_Ind.json\",\\n    \"Senegal\": \"https://dsci551-project-52d43-default-rtdb.firebaseio.com/DataNode/Senegal/Stats_Cap_Ind.json\",\\n    \"Serbia\": \"https://dsci551-project-52d43-default-rtdb.firebaseio.com/DataNode/Serbia/Stats_Cap_Ind.json\",\\n    \"Seychelles\": \"https://dsci551-project-52d43-default-rtdb.firebaseio.com/DataNode/Seychelles/Stats_Cap_Ind.json\",\\n    \"Sierra_Leone\": \"https://dsci551-project-52d43-default-rtdb.firebaseio.com/DataNode/Sierra_Leone/Stats_Cap_Ind.json\",\\n    \"Solomon_Islands\": \"https://dsci551-project-52d43-default-rtdb.firebaseio.com/DataNode/Solomon_Islands/Stats_Cap_Ind.json\",\\n    \"Somalia\": \"https://dsci551-project-52d43-default-rtdb.firebaseio.com/DataNode/Somalia/Stats_Cap_Ind.json\",\\n    \"South_Africa\": \"https://dsci551-project-52d43-default-rtdb.firebaseio.com/DataNode/South_Africa/Stats_Cap_Ind.json\",\\n    \"South_Asia\": \"https://dsci551-project-52d43-default-rtdb.firebaseio.com/DataNode/South_Asia/Stats_Cap_Ind.json\",\\n    \"South_Sudan\": \"https://dsci551-project-52d43-default-rtdb.firebaseio.com/DataNode/South_Sudan/Stats_Cap_Ind.json\",\\n    \"Sri_Lanka\": \"https://dsci551-project-52d43-default-rtdb.firebaseio.com/DataNode/Sri_Lanka/Stats_Cap_Ind.json\",\\n    \"St_Kitts_and_Nevis\": \"https://dsci551-project-52d43-default-rtdb.firebaseio.com/DataNode/St_Kitts_and_Nevis/Stats_Cap_Ind.json\",\\n    \"St_Lucia\": \"https://dsci551-project-52d43-default-rtdb.firebaseio.com/DataNode/St_Lucia/Stats_Cap_Ind.json\",\\n    \"St_Vincent_and_the_Grenadines\": \"https://dsci551-project-52d43-default-rtdb.firebaseio.com/DataNode/St_Vincent_and_the_Grenadines/Stats_Cap_Ind.json\",\\n    \"SubSaharan_Africa_excluding_high_income\": \"https://dsci551-project-52d43-default-rtdb.firebaseio.com/DataNode/SubSaharan_Africa_excluding_high_income/Stats_Cap_Ind.json\",\\n    \"Sudan\": \"https://dsci551-project-52d43-default-rtdb.firebaseio.com/DataNode/Sudan/Stats_Cap_Ind.json\",\\n    \"Suriname\": \"https://dsci551-project-52d43-default-rtdb.firebaseio.com/DataNode/Suriname/Stats_Cap_Ind.json\",\\n    \"Syrian_Arab_Republic\": \"https://dsci551-project-52d43-default-rtdb.firebaseio.com/DataNode/Syrian_Arab_Republic/Stats_Cap_Ind.json\",\\n    \"Tajikistan\": \"https://dsci551-project-52d43-default-rtdb.firebaseio.com/DataNode/Tajikistan/Stats_Cap_Ind.json\",\\n    \"Tanzania\": \"https://dsci551-project-52d43-default-rtdb.firebaseio.com/DataNode/Tanzania/Stats_Cap_Ind.json\",\\n    \"Thailand\": \"https://dsci551-project-52d43-default-rtdb.firebaseio.com/DataNode/Thailand/Stats_Cap_Ind.json\",\\n    \"TimorLeste\": \"https://dsci551-project-52d43-default-rtdb.firebaseio.com/DataNode/TimorLeste/Stats_Cap_Ind.json\",\\n    \"Togo\": \"https://dsci551-project-52d43-default-rtdb.firebaseio.com/DataNode/Togo/Stats_Cap_Ind.json\",\\n    \"Tonga\": \"https://dsci551-project-52d43-default-rtdb.firebaseio.com/DataNode/Tonga/Stats_Cap_Ind.json\",\\n    \"Trinidad_and_Tobago\": \"https://dsci551-project-52d43-default-rtdb.firebaseio.com/DataNode/Trinidad_and_Tobago/Stats_Cap_Ind.json\",\\n    \"Tunisia\": \"https://dsci551-project-52d43-default-rtdb.firebaseio.com/DataNode/Tunisia/Stats_Cap_Ind.json\",\\n    \"Turkey\": \"https://dsci551-project-52d43-default-rtdb.firebaseio.com/DataNode/Turkey/Stats_Cap_Ind.json\",\\n    \"Turkmenistan\": \"https://dsci551-project-52d43-default-rtdb.firebaseio.com/DataNode/Turkmenistan/Stats_Cap_Ind.json\",\\n    \"Tuvalu\": \"https://dsci551-project-52d43-default-rtdb.firebaseio.com/DataNode/Tuvalu/Stats_Cap_Ind.json\",\\n    \"Uganda\": \"https://dsci551-project-52d43-default-rtdb.firebaseio.com/DataNode/Uganda/Stats_Cap_Ind.json\",\\n    \"Ukraine\": \"https://dsci551-project-52d43-default-rtdb.firebaseio.com/DataNode/Ukraine/Stats_Cap_Ind.json\",\\n    \"Uruguay\": \"https://dsci551-project-52d43-default-rtdb.firebaseio.com/DataNode/Uruguay/Stats_Cap_Ind.json\",\\n    \"Uzbekistan\": \"https://dsci551-project-52d43-default-rtdb.firebaseio.com/DataNode/Uzbekistan/Stats_Cap_Ind.json\",\\n    \"Vanuatu\": \"https://dsci551-project-52d43-default-rtdb.firebaseio.com/DataNode/Vanuatu/Stats_Cap_Ind.json\",\\n    \"Venezuela_RB\": \"https://dsci551-project-52d43-default-rtdb.firebaseio.com/DataNode/Venezuela_RB/Stats_Cap_Ind.json\",\\n    \"Vietnam\": \"https://dsci551-project-52d43-default-rtdb.firebaseio.com/DataNode/Vietnam/Stats_Cap_Ind.json\",\\n    \"West_Bank_and_Gaza\": \"https://dsci551-project-52d43-default-rtdb.firebaseio.com/DataNode/West_Bank_and_Gaza/Stats_Cap_Ind.json\",\\n    \"Yemen_Rep\": \"https://dsci551-project-52d43-default-rtdb.firebaseio.com/DataNode/Yemen_Rep/Stats_Cap_Ind.json\",\\n    \"Zambia\": \"https://dsci551-project-52d43-default-rtdb.firebaseio.com/DataNode/Zambia/Stats_Cap_Ind.json\",\\n    \"Zimbabwe\": \"https://dsci551-project-52d43-default-rtdb.firebaseio.com/DataNode/Zimbabwe/Stats_Cap_Ind.json\"\\n}'"
      ]
     },
     "execution_count": 37,
     "metadata": {},
     "output_type": "execute_result"
    }
   ],
   "source": [
    "result"
   ]
  },
  {
   "cell_type": "code",
   "execution_count": null,
   "metadata": {},
   "outputs": [],
   "source": [
    "dict_1 =json.loads(result)"
   ]
  },
  {
   "cell_type": "code",
   "execution_count": null,
   "metadata": {},
   "outputs": [
    {
     "data": {
      "text/plain": [
       "'root/daniel was succefully deleted'"
      ]
     },
     "execution_count": 169,
     "metadata": {},
     "output_type": "execute_result"
    }
   ],
   "source": [
    "rm(\"root/daniel\")"
   ]
  },
  {
   "cell_type": "code",
   "execution_count": null,
   "metadata": {},
   "outputs": [
    {
     "data": {
      "text/plain": [
       "'Directory data2/China already exists'"
      ]
     },
     "execution_count": 161,
     "metadata": {},
     "output_type": "execute_result"
    }
   ],
   "source": [
    "mkdir(\"data2/China\")"
   ]
  },
  {
   "cell_type": "code",
   "execution_count": null,
   "metadata": {},
   "outputs": [],
   "source": [
    "input_text = \"ls dsdadsada dasd\"\n",
    "input = input_text.split(' ')"
   ]
  },
  {
   "cell_type": "code",
   "execution_count": null,
   "metadata": {},
   "outputs": [],
   "source": [
    "input_text = \"ls root/daniel/test2\""
   ]
  },
  {
   "cell_type": "code",
   "execution_count": null,
   "metadata": {},
   "outputs": [
    {
     "name": "stdout",
     "output_type": "stream",
     "text": [
      "empty\n"
     ]
    }
   ],
   "source": [
    "functions = {'ls': ls, 'mkdir': mkdir, 'rm': rm}\n",
    "\n",
    "input = input_text.split(' ')\n",
    "function_name = input[0]\n",
    "params = input[1:]\n",
    "\n",
    "try:\n",
    "    output = functions[function_name](*params)\n",
    "except KeyError:\n",
    "    output = \"Command not found. Valid commands: ls, mkdir, rm, put, getPartitionLocations, readPartition\"\n",
    "except TypeError:\n",
    "    output = \"Please verify function required arguments\"\n",
    "print(output)"
   ]
  },
  {
   "cell_type": "code",
   "execution_count": null,
   "metadata": {},
   "outputs": [
    {
     "data": {
      "text/plain": [
       "['user']"
      ]
     },
     "execution_count": 81,
     "metadata": {},
     "output_type": "execute_result"
    }
   ],
   "source": [
    "functions[function_name](*params)"
   ]
  },
  {
   "cell_type": "code",
   "execution_count": null,
   "metadata": {},
   "outputs": [],
   "source": [
    "args = (2,3)"
   ]
  },
  {
   "cell_type": "code",
   "execution_count": null,
   "metadata": {},
   "outputs": [],
   "source": [
    "import pandas as pd"
   ]
  },
  {
   "cell_type": "code",
   "execution_count": null,
   "metadata": {},
   "outputs": [],
   "source": [
    "df = pd.read_csv(\"datasets/Data_Extract_From_Statistical_Capacity_Indicators/42377300-c075-4554-a55f-41cd64c79126_Data.csv\")"
   ]
  },
  {
   "cell_type": "code",
   "execution_count": null,
   "metadata": {},
   "outputs": [],
   "source": [
    "# function to get year columns\n",
    "def is_year (c):\n",
    "    return any(char.isdigit() for char in c)\n",
    "\n",
    "# change columns names\n",
    "new_columns = list()\n",
    "columns = df.columns\n",
    "for c in columns:\n",
    "    if is_year(c):\n",
    "        new_columns.append(c[:4])\n",
    "    else:\n",
    "        new_columns.append(c.replace(\" \",\"_\"))\n",
    "\n",
    "# change column names in dataframe\n",
    "df.columns = new_columns"
   ]
  },
  {
   "cell_type": "code",
   "execution_count": null,
   "metadata": {},
   "outputs": [],
   "source": [
    "df = df.drop(columns=['Country_Code', 'Series_Code'], axis=1)"
   ]
  },
  {
   "cell_type": "code",
   "execution_count": null,
   "metadata": {},
   "outputs": [
    {
     "data": {
      "text/html": [
       "<div>\n",
       "<style scoped>\n",
       "    .dataframe tbody tr th:only-of-type {\n",
       "        vertical-align: middle;\n",
       "    }\n",
       "\n",
       "    .dataframe tbody tr th {\n",
       "        vertical-align: top;\n",
       "    }\n",
       "\n",
       "    .dataframe thead th {\n",
       "        text-align: right;\n",
       "    }\n",
       "</style>\n",
       "<table border=\"1\" class=\"dataframe\">\n",
       "  <thead>\n",
       "    <tr style=\"text-align: right;\">\n",
       "      <th></th>\n",
       "      <th>Country_Name</th>\n",
       "      <th>Series_Name</th>\n",
       "      <th>2020</th>\n",
       "      <th>2019</th>\n",
       "      <th>2018</th>\n",
       "      <th>2017</th>\n",
       "      <th>2016</th>\n",
       "      <th>2015</th>\n",
       "      <th>2014</th>\n",
       "      <th>2013</th>\n",
       "      <th>2012</th>\n",
       "      <th>2011</th>\n",
       "      <th>2010</th>\n",
       "      <th>2009</th>\n",
       "      <th>2008</th>\n",
       "      <th>2007</th>\n",
       "      <th>2006</th>\n",
       "      <th>2005</th>\n",
       "      <th>2004</th>\n",
       "    </tr>\n",
       "  </thead>\n",
       "  <tbody>\n",
       "    <tr>\n",
       "      <th>0</th>\n",
       "      <td>Afghanistan</td>\n",
       "      <td>Access to water</td>\n",
       "      <td>1</td>\n",
       "      <td>1</td>\n",
       "      <td>1</td>\n",
       "      <td>1</td>\n",
       "      <td>1</td>\n",
       "      <td>1</td>\n",
       "      <td>1</td>\n",
       "      <td>1</td>\n",
       "      <td>1</td>\n",
       "      <td>1</td>\n",
       "      <td>1</td>\n",
       "      <td>1</td>\n",
       "      <td>1</td>\n",
       "      <td>1</td>\n",
       "      <td>1</td>\n",
       "      <td>1</td>\n",
       "      <td>1</td>\n",
       "    </tr>\n",
       "    <tr>\n",
       "      <th>1</th>\n",
       "      <td>Afghanistan</td>\n",
       "      <td>Agricultural census</td>\n",
       "      <td>0</td>\n",
       "      <td>0</td>\n",
       "      <td>0</td>\n",
       "      <td>0</td>\n",
       "      <td>0</td>\n",
       "      <td>0</td>\n",
       "      <td>0</td>\n",
       "      <td>0</td>\n",
       "      <td>0</td>\n",
       "      <td>0</td>\n",
       "      <td>0</td>\n",
       "      <td>0</td>\n",
       "      <td>0</td>\n",
       "      <td>0</td>\n",
       "      <td>0</td>\n",
       "      <td>0</td>\n",
       "      <td>0</td>\n",
       "    </tr>\n",
       "    <tr>\n",
       "      <th>2</th>\n",
       "      <td>Afghanistan</td>\n",
       "      <td>Balance of payments manual in use</td>\n",
       "      <td>1</td>\n",
       "      <td>1</td>\n",
       "      <td>1</td>\n",
       "      <td>1</td>\n",
       "      <td>1</td>\n",
       "      <td>1</td>\n",
       "      <td>1</td>\n",
       "      <td>1</td>\n",
       "      <td>0</td>\n",
       "      <td>0</td>\n",
       "      <td>0</td>\n",
       "      <td>0</td>\n",
       "      <td>0</td>\n",
       "      <td>0</td>\n",
       "      <td>0</td>\n",
       "      <td>0</td>\n",
       "      <td>0</td>\n",
       "    </tr>\n",
       "    <tr>\n",
       "      <th>3</th>\n",
       "      <td>Afghanistan</td>\n",
       "      <td>Child malnutrition</td>\n",
       "      <td>0.66667</td>\n",
       "      <td>0.33333</td>\n",
       "      <td>0.33333</td>\n",
       "      <td>0.33333</td>\n",
       "      <td>0.33333</td>\n",
       "      <td>0.33333</td>\n",
       "      <td>0.33333</td>\n",
       "      <td>0.33333</td>\n",
       "      <td>0.33333</td>\n",
       "      <td>0.33333</td>\n",
       "      <td>0.66667</td>\n",
       "      <td>0.66667</td>\n",
       "      <td>0.66667</td>\n",
       "      <td>0.33333</td>\n",
       "      <td>0.33333</td>\n",
       "      <td>0.33333</td>\n",
       "      <td>0.33333</td>\n",
       "    </tr>\n",
       "    <tr>\n",
       "      <th>4</th>\n",
       "      <td>Afghanistan</td>\n",
       "      <td>Child mortality</td>\n",
       "      <td>1</td>\n",
       "      <td>1</td>\n",
       "      <td>1</td>\n",
       "      <td>1</td>\n",
       "      <td>1</td>\n",
       "      <td>1</td>\n",
       "      <td>1</td>\n",
       "      <td>1</td>\n",
       "      <td>1</td>\n",
       "      <td>1</td>\n",
       "      <td>1</td>\n",
       "      <td>1</td>\n",
       "      <td>1</td>\n",
       "      <td>1</td>\n",
       "      <td>1</td>\n",
       "      <td>1</td>\n",
       "      <td>1</td>\n",
       "    </tr>\n",
       "    <tr>\n",
       "      <th>...</th>\n",
       "      <td>...</td>\n",
       "      <td>...</td>\n",
       "      <td>...</td>\n",
       "      <td>...</td>\n",
       "      <td>...</td>\n",
       "      <td>...</td>\n",
       "      <td>...</td>\n",
       "      <td>...</td>\n",
       "      <td>...</td>\n",
       "      <td>...</td>\n",
       "      <td>...</td>\n",
       "      <td>...</td>\n",
       "      <td>...</td>\n",
       "      <td>...</td>\n",
       "      <td>...</td>\n",
       "      <td>...</td>\n",
       "      <td>...</td>\n",
       "      <td>...</td>\n",
       "      <td>...</td>\n",
       "    </tr>\n",
       "    <tr>\n",
       "      <th>4461</th>\n",
       "      <td>Zimbabwe</td>\n",
       "      <td>Primary completion</td>\n",
       "      <td>0</td>\n",
       "      <td>0.33333</td>\n",
       "      <td>0.33333</td>\n",
       "      <td>0.33333</td>\n",
       "      <td>0.33333</td>\n",
       "      <td>0.33333</td>\n",
       "      <td>0</td>\n",
       "      <td>0</td>\n",
       "      <td>0</td>\n",
       "      <td>0</td>\n",
       "      <td>0</td>\n",
       "      <td>0</td>\n",
       "      <td>0</td>\n",
       "      <td>0</td>\n",
       "      <td>0</td>\n",
       "      <td>0</td>\n",
       "      <td>0</td>\n",
       "    </tr>\n",
       "    <tr>\n",
       "      <th>4462</th>\n",
       "      <td>Zimbabwe</td>\n",
       "      <td>Source data assessment of statistical capacity...</td>\n",
       "      <td>60</td>\n",
       "      <td>60</td>\n",
       "      <td>60</td>\n",
       "      <td>60</td>\n",
       "      <td>60</td>\n",
       "      <td>60</td>\n",
       "      <td>60</td>\n",
       "      <td>60</td>\n",
       "      <td>60</td>\n",
       "      <td>60</td>\n",
       "      <td>60</td>\n",
       "      <td>50</td>\n",
       "      <td>40</td>\n",
       "      <td>40</td>\n",
       "      <td>50</td>\n",
       "      <td>50</td>\n",
       "      <td>50</td>\n",
       "    </tr>\n",
       "    <tr>\n",
       "      <th>4463</th>\n",
       "      <td>Zimbabwe</td>\n",
       "      <td>Special Data Dissemination Standard</td>\n",
       "      <td>0</td>\n",
       "      <td>0</td>\n",
       "      <td>0</td>\n",
       "      <td>0</td>\n",
       "      <td>0</td>\n",
       "      <td>0</td>\n",
       "      <td>0</td>\n",
       "      <td>0</td>\n",
       "      <td>0</td>\n",
       "      <td>0</td>\n",
       "      <td>0</td>\n",
       "      <td>0</td>\n",
       "      <td>0</td>\n",
       "      <td>0</td>\n",
       "      <td>0</td>\n",
       "      <td>0</td>\n",
       "      <td>0</td>\n",
       "    </tr>\n",
       "    <tr>\n",
       "      <th>4464</th>\n",
       "      <td>Zimbabwe</td>\n",
       "      <td>UNESCO reporting</td>\n",
       "      <td>0</td>\n",
       "      <td>0</td>\n",
       "      <td>0</td>\n",
       "      <td>0</td>\n",
       "      <td>0</td>\n",
       "      <td>0</td>\n",
       "      <td>0</td>\n",
       "      <td>0</td>\n",
       "      <td>0</td>\n",
       "      <td>0</td>\n",
       "      <td>0</td>\n",
       "      <td>0</td>\n",
       "      <td>0</td>\n",
       "      <td>0</td>\n",
       "      <td>1</td>\n",
       "      <td>1</td>\n",
       "      <td>0</td>\n",
       "    </tr>\n",
       "    <tr>\n",
       "      <th>4465</th>\n",
       "      <td>Zimbabwe</td>\n",
       "      <td>Vital registration system coverage</td>\n",
       "      <td>0</td>\n",
       "      <td>0</td>\n",
       "      <td>0</td>\n",
       "      <td>0</td>\n",
       "      <td>0</td>\n",
       "      <td>0</td>\n",
       "      <td>0</td>\n",
       "      <td>0</td>\n",
       "      <td>0</td>\n",
       "      <td>0</td>\n",
       "      <td>0</td>\n",
       "      <td>0</td>\n",
       "      <td>0</td>\n",
       "      <td>0</td>\n",
       "      <td>0</td>\n",
       "      <td>0</td>\n",
       "      <td>0</td>\n",
       "    </tr>\n",
       "  </tbody>\n",
       "</table>\n",
       "<p>4466 rows × 19 columns</p>\n",
       "</div>"
      ],
      "text/plain": [
       "     Country_Name                                        Series_Name     2020  \\\n",
       "0     Afghanistan                                    Access to water        1   \n",
       "1     Afghanistan                                Agricultural census        0   \n",
       "2     Afghanistan                  Balance of payments manual in use        1   \n",
       "3     Afghanistan                                 Child malnutrition  0.66667   \n",
       "4     Afghanistan                                    Child mortality        1   \n",
       "...           ...                                                ...      ...   \n",
       "4461     Zimbabwe                                 Primary completion        0   \n",
       "4462     Zimbabwe  Source data assessment of statistical capacity...       60   \n",
       "4463     Zimbabwe                Special Data Dissemination Standard        0   \n",
       "4464     Zimbabwe                                   UNESCO reporting        0   \n",
       "4465     Zimbabwe                 Vital registration system coverage        0   \n",
       "\n",
       "         2019     2018     2017     2016     2015     2014     2013     2012  \\\n",
       "0           1        1        1        1        1        1        1        1   \n",
       "1           0        0        0        0        0        0        0        0   \n",
       "2           1        1        1        1        1        1        1        0   \n",
       "3     0.33333  0.33333  0.33333  0.33333  0.33333  0.33333  0.33333  0.33333   \n",
       "4           1        1        1        1        1        1        1        1   \n",
       "...       ...      ...      ...      ...      ...      ...      ...      ...   \n",
       "4461  0.33333  0.33333  0.33333  0.33333  0.33333        0        0        0   \n",
       "4462       60       60       60       60       60       60       60       60   \n",
       "4463        0        0        0        0        0        0        0        0   \n",
       "4464        0        0        0        0        0        0        0        0   \n",
       "4465        0        0        0        0        0        0        0        0   \n",
       "\n",
       "         2011     2010     2009     2008     2007     2006     2005     2004  \n",
       "0           1        1        1        1        1        1        1        1  \n",
       "1           0        0        0        0        0        0        0        0  \n",
       "2           0        0        0        0        0        0        0        0  \n",
       "3     0.33333  0.66667  0.66667  0.66667  0.33333  0.33333  0.33333  0.33333  \n",
       "4           1        1        1        1        1        1        1        1  \n",
       "...       ...      ...      ...      ...      ...      ...      ...      ...  \n",
       "4461        0        0        0        0        0        0        0        0  \n",
       "4462       60       60       50       40       40       50       50       50  \n",
       "4463        0        0        0        0        0        0        0        0  \n",
       "4464        0        0        0        0        0        1        1        0  \n",
       "4465        0        0        0        0        0        0        0        0  \n",
       "\n",
       "[4466 rows x 19 columns]"
      ]
     },
     "execution_count": 194,
     "metadata": {},
     "output_type": "execute_result"
    }
   ],
   "source": [
    "df"
   ]
  },
  {
   "cell_type": "code",
   "execution_count": null,
   "metadata": {},
   "outputs": [
    {
     "data": {
      "text/html": [
       "<div>\n",
       "<style scoped>\n",
       "    .dataframe tbody tr th:only-of-type {\n",
       "        vertical-align: middle;\n",
       "    }\n",
       "\n",
       "    .dataframe tbody tr th {\n",
       "        vertical-align: top;\n",
       "    }\n",
       "\n",
       "    .dataframe thead th {\n",
       "        text-align: right;\n",
       "    }\n",
       "</style>\n",
       "<table border=\"1\" class=\"dataframe\">\n",
       "  <thead>\n",
       "    <tr style=\"text-align: right;\">\n",
       "      <th></th>\n",
       "      <th>Country_Name</th>\n",
       "      <th>Series_Name</th>\n",
       "      <th>2020</th>\n",
       "      <th>2019</th>\n",
       "      <th>2018</th>\n",
       "      <th>2017</th>\n",
       "      <th>2016</th>\n",
       "      <th>2015</th>\n",
       "      <th>2014</th>\n",
       "      <th>2013</th>\n",
       "      <th>2012</th>\n",
       "      <th>2011</th>\n",
       "      <th>2010</th>\n",
       "      <th>2009</th>\n",
       "      <th>2008</th>\n",
       "      <th>2007</th>\n",
       "      <th>2006</th>\n",
       "      <th>2005</th>\n",
       "      <th>2004</th>\n",
       "    </tr>\n",
       "  </thead>\n",
       "  <tbody>\n",
       "    <tr>\n",
       "      <th>3</th>\n",
       "      <td>Afghanistan</td>\n",
       "      <td>Child malnutrition</td>\n",
       "      <td>0.66667</td>\n",
       "      <td>0.33333</td>\n",
       "      <td>0.33333</td>\n",
       "      <td>0.33333</td>\n",
       "      <td>0.33333</td>\n",
       "      <td>0.33333</td>\n",
       "      <td>0.33333</td>\n",
       "      <td>0.33333</td>\n",
       "      <td>0.33333</td>\n",
       "      <td>0.33333</td>\n",
       "      <td>0.66667</td>\n",
       "      <td>0.66667</td>\n",
       "      <td>0.66667</td>\n",
       "      <td>0.33333</td>\n",
       "      <td>0.33333</td>\n",
       "      <td>0.33333</td>\n",
       "      <td>0.33333</td>\n",
       "    </tr>\n",
       "  </tbody>\n",
       "</table>\n",
       "</div>"
      ],
      "text/plain": [
       "  Country_Name         Series_Name     2020     2019     2018     2017  \\\n",
       "3  Afghanistan  Child malnutrition  0.66667  0.33333  0.33333  0.33333   \n",
       "\n",
       "      2016     2015     2014     2013     2012     2011     2010     2009  \\\n",
       "3  0.33333  0.33333  0.33333  0.33333  0.33333  0.33333  0.66667  0.66667   \n",
       "\n",
       "      2008     2007     2006     2005     2004  \n",
       "3  0.66667  0.33333  0.33333  0.33333  0.33333  "
      ]
     },
     "execution_count": 195,
     "metadata": {},
     "output_type": "execute_result"
    }
   ],
   "source": [
    "df.loc[\n",
    "    (df['Country_Name'] == 'Afghanistan') & (df['Series_Name'] == 'Child malnutrition')]"
   ]
  },
  {
   "cell_type": "code",
   "execution_count": null,
   "metadata": {},
   "outputs": [],
   "source": [
    "df_melted = df.melt(id_vars=[\"Country_Name\", \"Series_Name\"], \n",
    "        var_name=\"Year\", \n",
    "        value_name=\"Value\")"
   ]
  },
  {
   "cell_type": "code",
   "execution_count": null,
   "metadata": {},
   "outputs": [],
   "source": [
    "df_melted['Year'] = df_melted['Year'].astype(int)"
   ]
  },
  {
   "cell_type": "code",
   "execution_count": null,
   "metadata": {},
   "outputs": [],
   "source": [
    "import numpy as np"
   ]
  },
  {
   "cell_type": "code",
   "execution_count": null,
   "metadata": {},
   "outputs": [],
   "source": [
    "df_melted = df_melted.loc[df_melted['Value'] != '..'].copy()"
   ]
  },
  {
   "cell_type": "code",
   "execution_count": null,
   "metadata": {},
   "outputs": [
    {
     "data": {
      "text/plain": [
       "0         1.00000\n",
       "1         0.00000\n",
       "2         1.00000\n",
       "3         0.66667\n",
       "4         1.00000\n",
       "           ...   \n",
       "75917     0.00000\n",
       "75918    50.00000\n",
       "75919     0.00000\n",
       "75920     0.00000\n",
       "75921     0.00000\n",
       "Name: Value, Length: 69959, dtype: float64"
      ]
     },
     "execution_count": 22,
     "metadata": {},
     "output_type": "execute_result"
    }
   ],
   "source": [
    "df_melted.loc[df_melted['Value'] != '..']['Value'].astype(float)"
   ]
  },
  {
   "cell_type": "code",
   "execution_count": null,
   "metadata": {},
   "outputs": [],
   "source": [
    "df_melted['Value'] = df_melted['Value'].astype(float)"
   ]
  },
  {
   "cell_type": "code",
   "execution_count": null,
   "metadata": {},
   "outputs": [
    {
     "data": {
      "text/html": [
       "<div>\n",
       "<style scoped>\n",
       "    .dataframe tbody tr th:only-of-type {\n",
       "        vertical-align: middle;\n",
       "    }\n",
       "\n",
       "    .dataframe tbody tr th {\n",
       "        vertical-align: top;\n",
       "    }\n",
       "\n",
       "    .dataframe thead th {\n",
       "        text-align: right;\n",
       "    }\n",
       "</style>\n",
       "<table border=\"1\" class=\"dataframe\">\n",
       "  <thead>\n",
       "    <tr style=\"text-align: right;\">\n",
       "      <th></th>\n",
       "      <th>Country_Name</th>\n",
       "      <th>Series_Name</th>\n",
       "      <th>Year</th>\n",
       "      <th>Value</th>\n",
       "    </tr>\n",
       "  </thead>\n",
       "  <tbody>\n",
       "    <tr>\n",
       "      <th>3</th>\n",
       "      <td>Afghanistan</td>\n",
       "      <td>Child malnutrition</td>\n",
       "      <td>2020</td>\n",
       "      <td>0.66667</td>\n",
       "    </tr>\n",
       "    <tr>\n",
       "      <th>4469</th>\n",
       "      <td>Afghanistan</td>\n",
       "      <td>Child malnutrition</td>\n",
       "      <td>2019</td>\n",
       "      <td>0.33333</td>\n",
       "    </tr>\n",
       "    <tr>\n",
       "      <th>8935</th>\n",
       "      <td>Afghanistan</td>\n",
       "      <td>Child malnutrition</td>\n",
       "      <td>2018</td>\n",
       "      <td>0.33333</td>\n",
       "    </tr>\n",
       "    <tr>\n",
       "      <th>13401</th>\n",
       "      <td>Afghanistan</td>\n",
       "      <td>Child malnutrition</td>\n",
       "      <td>2017</td>\n",
       "      <td>0.33333</td>\n",
       "    </tr>\n",
       "    <tr>\n",
       "      <th>17867</th>\n",
       "      <td>Afghanistan</td>\n",
       "      <td>Child malnutrition</td>\n",
       "      <td>2016</td>\n",
       "      <td>0.33333</td>\n",
       "    </tr>\n",
       "    <tr>\n",
       "      <th>22333</th>\n",
       "      <td>Afghanistan</td>\n",
       "      <td>Child malnutrition</td>\n",
       "      <td>2015</td>\n",
       "      <td>0.33333</td>\n",
       "    </tr>\n",
       "    <tr>\n",
       "      <th>26799</th>\n",
       "      <td>Afghanistan</td>\n",
       "      <td>Child malnutrition</td>\n",
       "      <td>2014</td>\n",
       "      <td>0.33333</td>\n",
       "    </tr>\n",
       "    <tr>\n",
       "      <th>31265</th>\n",
       "      <td>Afghanistan</td>\n",
       "      <td>Child malnutrition</td>\n",
       "      <td>2013</td>\n",
       "      <td>0.33333</td>\n",
       "    </tr>\n",
       "    <tr>\n",
       "      <th>35731</th>\n",
       "      <td>Afghanistan</td>\n",
       "      <td>Child malnutrition</td>\n",
       "      <td>2012</td>\n",
       "      <td>0.33333</td>\n",
       "    </tr>\n",
       "    <tr>\n",
       "      <th>40197</th>\n",
       "      <td>Afghanistan</td>\n",
       "      <td>Child malnutrition</td>\n",
       "      <td>2011</td>\n",
       "      <td>0.33333</td>\n",
       "    </tr>\n",
       "    <tr>\n",
       "      <th>44663</th>\n",
       "      <td>Afghanistan</td>\n",
       "      <td>Child malnutrition</td>\n",
       "      <td>2010</td>\n",
       "      <td>0.66667</td>\n",
       "    </tr>\n",
       "    <tr>\n",
       "      <th>49129</th>\n",
       "      <td>Afghanistan</td>\n",
       "      <td>Child malnutrition</td>\n",
       "      <td>2009</td>\n",
       "      <td>0.66667</td>\n",
       "    </tr>\n",
       "    <tr>\n",
       "      <th>53595</th>\n",
       "      <td>Afghanistan</td>\n",
       "      <td>Child malnutrition</td>\n",
       "      <td>2008</td>\n",
       "      <td>0.66667</td>\n",
       "    </tr>\n",
       "    <tr>\n",
       "      <th>58061</th>\n",
       "      <td>Afghanistan</td>\n",
       "      <td>Child malnutrition</td>\n",
       "      <td>2007</td>\n",
       "      <td>0.33333</td>\n",
       "    </tr>\n",
       "    <tr>\n",
       "      <th>62527</th>\n",
       "      <td>Afghanistan</td>\n",
       "      <td>Child malnutrition</td>\n",
       "      <td>2006</td>\n",
       "      <td>0.33333</td>\n",
       "    </tr>\n",
       "    <tr>\n",
       "      <th>66993</th>\n",
       "      <td>Afghanistan</td>\n",
       "      <td>Child malnutrition</td>\n",
       "      <td>2005</td>\n",
       "      <td>0.33333</td>\n",
       "    </tr>\n",
       "    <tr>\n",
       "      <th>71459</th>\n",
       "      <td>Afghanistan</td>\n",
       "      <td>Child malnutrition</td>\n",
       "      <td>2004</td>\n",
       "      <td>0.33333</td>\n",
       "    </tr>\n",
       "  </tbody>\n",
       "</table>\n",
       "</div>"
      ],
      "text/plain": [
       "      Country_Name         Series_Name  Year    Value\n",
       "3      Afghanistan  Child malnutrition  2020  0.66667\n",
       "4469   Afghanistan  Child malnutrition  2019  0.33333\n",
       "8935   Afghanistan  Child malnutrition  2018  0.33333\n",
       "13401  Afghanistan  Child malnutrition  2017  0.33333\n",
       "17867  Afghanistan  Child malnutrition  2016  0.33333\n",
       "22333  Afghanistan  Child malnutrition  2015  0.33333\n",
       "26799  Afghanistan  Child malnutrition  2014  0.33333\n",
       "31265  Afghanistan  Child malnutrition  2013  0.33333\n",
       "35731  Afghanistan  Child malnutrition  2012  0.33333\n",
       "40197  Afghanistan  Child malnutrition  2011  0.33333\n",
       "44663  Afghanistan  Child malnutrition  2010  0.66667\n",
       "49129  Afghanistan  Child malnutrition  2009  0.66667\n",
       "53595  Afghanistan  Child malnutrition  2008  0.66667\n",
       "58061  Afghanistan  Child malnutrition  2007  0.33333\n",
       "62527  Afghanistan  Child malnutrition  2006  0.33333\n",
       "66993  Afghanistan  Child malnutrition  2005  0.33333\n",
       "71459  Afghanistan  Child malnutrition  2004  0.33333"
      ]
     },
     "execution_count": 24,
     "metadata": {},
     "output_type": "execute_result"
    }
   ],
   "source": [
    "df_melted.loc[\n",
    "    (df_melted['Country_Name'] == 'Afghanistan') & (df_melted['Series_Name'] == 'Child malnutrition')]"
   ]
  },
  {
   "cell_type": "code",
   "execution_count": null,
   "metadata": {},
   "outputs": [
    {
     "data": {
      "text/html": [
       "<div>\n",
       "<style scoped>\n",
       "    .dataframe tbody tr th:only-of-type {\n",
       "        vertical-align: middle;\n",
       "    }\n",
       "\n",
       "    .dataframe tbody tr th {\n",
       "        vertical-align: top;\n",
       "    }\n",
       "\n",
       "    .dataframe thead th {\n",
       "        text-align: right;\n",
       "    }\n",
       "</style>\n",
       "<table border=\"1\" class=\"dataframe\">\n",
       "  <thead>\n",
       "    <tr style=\"text-align: right;\">\n",
       "      <th></th>\n",
       "      <th>Country_Name</th>\n",
       "      <th>Series_Name</th>\n",
       "      <th>Year</th>\n",
       "      <th>Value</th>\n",
       "    </tr>\n",
       "  </thead>\n",
       "  <tbody>\n",
       "    <tr>\n",
       "      <th>0</th>\n",
       "      <td>Afghanistan</td>\n",
       "      <td>Access to water</td>\n",
       "      <td>2020</td>\n",
       "      <td>1</td>\n",
       "    </tr>\n",
       "    <tr>\n",
       "      <th>1</th>\n",
       "      <td>Afghanistan</td>\n",
       "      <td>Agricultural census</td>\n",
       "      <td>2020</td>\n",
       "      <td>0</td>\n",
       "    </tr>\n",
       "    <tr>\n",
       "      <th>2</th>\n",
       "      <td>Afghanistan</td>\n",
       "      <td>Balance of payments manual in use</td>\n",
       "      <td>2020</td>\n",
       "      <td>1</td>\n",
       "    </tr>\n",
       "    <tr>\n",
       "      <th>3</th>\n",
       "      <td>Afghanistan</td>\n",
       "      <td>Child malnutrition</td>\n",
       "      <td>2020</td>\n",
       "      <td>0.66667</td>\n",
       "    </tr>\n",
       "    <tr>\n",
       "      <th>4</th>\n",
       "      <td>Afghanistan</td>\n",
       "      <td>Child mortality</td>\n",
       "      <td>2020</td>\n",
       "      <td>1</td>\n",
       "    </tr>\n",
       "    <tr>\n",
       "      <th>...</th>\n",
       "      <td>...</td>\n",
       "      <td>...</td>\n",
       "      <td>...</td>\n",
       "      <td>...</td>\n",
       "    </tr>\n",
       "    <tr>\n",
       "      <th>71480</th>\n",
       "      <td>Afghanistan</td>\n",
       "      <td>Primary completion</td>\n",
       "      <td>2004</td>\n",
       "      <td>0</td>\n",
       "    </tr>\n",
       "    <tr>\n",
       "      <th>71481</th>\n",
       "      <td>Afghanistan</td>\n",
       "      <td>Source data assessment of statistical capacity...</td>\n",
       "      <td>2004</td>\n",
       "      <td>20</td>\n",
       "    </tr>\n",
       "    <tr>\n",
       "      <th>71482</th>\n",
       "      <td>Afghanistan</td>\n",
       "      <td>Special Data Dissemination Standard</td>\n",
       "      <td>2004</td>\n",
       "      <td>0</td>\n",
       "    </tr>\n",
       "    <tr>\n",
       "      <th>71483</th>\n",
       "      <td>Afghanistan</td>\n",
       "      <td>UNESCO reporting</td>\n",
       "      <td>2004</td>\n",
       "      <td>0</td>\n",
       "    </tr>\n",
       "    <tr>\n",
       "      <th>71484</th>\n",
       "      <td>Afghanistan</td>\n",
       "      <td>Vital registration system coverage</td>\n",
       "      <td>2004</td>\n",
       "      <td>0</td>\n",
       "    </tr>\n",
       "  </tbody>\n",
       "</table>\n",
       "<p>493 rows × 4 columns</p>\n",
       "</div>"
      ],
      "text/plain": [
       "      Country_Name                                        Series_Name  Year  \\\n",
       "0      Afghanistan                                    Access to water  2020   \n",
       "1      Afghanistan                                Agricultural census  2020   \n",
       "2      Afghanistan                  Balance of payments manual in use  2020   \n",
       "3      Afghanistan                                 Child malnutrition  2020   \n",
       "4      Afghanistan                                    Child mortality  2020   \n",
       "...            ...                                                ...   ...   \n",
       "71480  Afghanistan                                 Primary completion  2004   \n",
       "71481  Afghanistan  Source data assessment of statistical capacity...  2004   \n",
       "71482  Afghanistan                Special Data Dissemination Standard  2004   \n",
       "71483  Afghanistan                                   UNESCO reporting  2004   \n",
       "71484  Afghanistan                 Vital registration system coverage  2004   \n",
       "\n",
       "         Value  \n",
       "0            1  \n",
       "1            0  \n",
       "2            1  \n",
       "3      0.66667  \n",
       "4            1  \n",
       "...        ...  \n",
       "71480        0  \n",
       "71481       20  \n",
       "71482        0  \n",
       "71483        0  \n",
       "71484        0  \n",
       "\n",
       "[493 rows x 4 columns]"
      ]
     },
     "execution_count": 205,
     "metadata": {},
     "output_type": "execute_result"
    }
   ],
   "source": [
    "df_melted.loc[\n",
    "    (df_melted['Country_Name'] == 'Afghanistan')]# & (df_melted['Series_Name'] == 'Child malnutrition')]"
   ]
  },
  {
   "cell_type": "code",
   "execution_count": null,
   "metadata": {},
   "outputs": [],
   "source": [
    "mask = (\n",
    "    (df_melted.Country_Name.isin(['Albania']))\n",
    "    & (df_melted.Series_Name == 'Access to water')\n",
    "    & (df_melted.Year >= 2000)\n",
    "    & (df_melted.Year <= 2020)\n",
    ")"
   ]
  },
  {
   "cell_type": "code",
   "execution_count": null,
   "metadata": {},
   "outputs": [],
   "source": [
    "data_list = []\n",
    "filtered_dataset = df_melted[mask].copy()\n",
    "for country_name in filtered_dataset.Country_Name.unique():\n",
    "    df_temp = filtered_dataset[filtered_dataset['Country_Name'] == country_name]\n",
    "    dict_append = {\n",
    "        \"x\": df_temp[\"Year\"],\n",
    "        \"y\": df_temp[\"Value\"],\n",
    "        \"type\": \"lines\",\n",
    "        \"hovertemplate\": \"%{y:.2f}<extra></extra>\",\n",
    "        \"name\": country_name\n",
    "    }\n",
    "    data_list.append(dict_append)"
   ]
  },
  {
   "cell_type": "code",
   "execution_count": null,
   "metadata": {},
   "outputs": [
    {
     "data": {
      "text/html": [
       "<div>\n",
       "<style scoped>\n",
       "    .dataframe tbody tr th:only-of-type {\n",
       "        vertical-align: middle;\n",
       "    }\n",
       "\n",
       "    .dataframe tbody tr th {\n",
       "        vertical-align: top;\n",
       "    }\n",
       "\n",
       "    .dataframe thead th {\n",
       "        text-align: right;\n",
       "    }\n",
       "</style>\n",
       "<table border=\"1\" class=\"dataframe\">\n",
       "  <thead>\n",
       "    <tr style=\"text-align: right;\">\n",
       "      <th></th>\n",
       "      <th>Value</th>\n",
       "    </tr>\n",
       "    <tr>\n",
       "      <th>Year</th>\n",
       "      <th></th>\n",
       "    </tr>\n",
       "  </thead>\n",
       "  <tbody>\n",
       "    <tr>\n",
       "      <th>2004</th>\n",
       "      <td>1.0</td>\n",
       "    </tr>\n",
       "    <tr>\n",
       "      <th>2005</th>\n",
       "      <td>1.0</td>\n",
       "    </tr>\n",
       "    <tr>\n",
       "      <th>2006</th>\n",
       "      <td>1.0</td>\n",
       "    </tr>\n",
       "    <tr>\n",
       "      <th>2007</th>\n",
       "      <td>1.0</td>\n",
       "    </tr>\n",
       "    <tr>\n",
       "      <th>2008</th>\n",
       "      <td>1.0</td>\n",
       "    </tr>\n",
       "    <tr>\n",
       "      <th>2009</th>\n",
       "      <td>1.0</td>\n",
       "    </tr>\n",
       "    <tr>\n",
       "      <th>2010</th>\n",
       "      <td>1.0</td>\n",
       "    </tr>\n",
       "    <tr>\n",
       "      <th>2011</th>\n",
       "      <td>1.0</td>\n",
       "    </tr>\n",
       "    <tr>\n",
       "      <th>2012</th>\n",
       "      <td>1.0</td>\n",
       "    </tr>\n",
       "    <tr>\n",
       "      <th>2013</th>\n",
       "      <td>1.0</td>\n",
       "    </tr>\n",
       "    <tr>\n",
       "      <th>2014</th>\n",
       "      <td>1.0</td>\n",
       "    </tr>\n",
       "    <tr>\n",
       "      <th>2015</th>\n",
       "      <td>1.0</td>\n",
       "    </tr>\n",
       "    <tr>\n",
       "      <th>2016</th>\n",
       "      <td>1.0</td>\n",
       "    </tr>\n",
       "    <tr>\n",
       "      <th>2017</th>\n",
       "      <td>1.0</td>\n",
       "    </tr>\n",
       "    <tr>\n",
       "      <th>2018</th>\n",
       "      <td>1.0</td>\n",
       "    </tr>\n",
       "    <tr>\n",
       "      <th>2019</th>\n",
       "      <td>1.0</td>\n",
       "    </tr>\n",
       "    <tr>\n",
       "      <th>2020</th>\n",
       "      <td>1.0</td>\n",
       "    </tr>\n",
       "  </tbody>\n",
       "</table>\n",
       "</div>"
      ],
      "text/plain": [
       "      Value\n",
       "Year       \n",
       "2004    1.0\n",
       "2005    1.0\n",
       "2006    1.0\n",
       "2007    1.0\n",
       "2008    1.0\n",
       "2009    1.0\n",
       "2010    1.0\n",
       "2011    1.0\n",
       "2012    1.0\n",
       "2013    1.0\n",
       "2014    1.0\n",
       "2015    1.0\n",
       "2016    1.0\n",
       "2017    1.0\n",
       "2018    1.0\n",
       "2019    1.0\n",
       "2020    1.0"
      ]
     },
     "execution_count": 27,
     "metadata": {},
     "output_type": "execute_result"
    }
   ],
   "source": [
    "df_melted.loc[df_melted['Series_Name'] == 'Access to water'].groupby('Year').agg({'Value': 'median'})"
   ]
  },
  {
   "cell_type": "code",
   "execution_count": null,
   "metadata": {},
   "outputs": [
    {
     "data": {
      "text/html": [
       "<div>\n",
       "<style scoped>\n",
       "    .dataframe tbody tr th:only-of-type {\n",
       "        vertical-align: middle;\n",
       "    }\n",
       "\n",
       "    .dataframe tbody tr th {\n",
       "        vertical-align: top;\n",
       "    }\n",
       "\n",
       "    .dataframe thead th {\n",
       "        text-align: right;\n",
       "    }\n",
       "</style>\n",
       "<table border=\"1\" class=\"dataframe\">\n",
       "  <thead>\n",
       "    <tr style=\"text-align: right;\">\n",
       "      <th></th>\n",
       "      <th>Country_Name</th>\n",
       "      <th>Series_Name</th>\n",
       "      <th>Year</th>\n",
       "      <th>Value</th>\n",
       "    </tr>\n",
       "  </thead>\n",
       "  <tbody>\n",
       "    <tr>\n",
       "      <th>0</th>\n",
       "      <td>Afghanistan</td>\n",
       "      <td>Access to water</td>\n",
       "      <td>2020</td>\n",
       "      <td>1</td>\n",
       "    </tr>\n",
       "    <tr>\n",
       "      <th>4466</th>\n",
       "      <td>Afghanistan</td>\n",
       "      <td>Access to water</td>\n",
       "      <td>2019</td>\n",
       "      <td>1</td>\n",
       "    </tr>\n",
       "    <tr>\n",
       "      <th>8932</th>\n",
       "      <td>Afghanistan</td>\n",
       "      <td>Access to water</td>\n",
       "      <td>2018</td>\n",
       "      <td>1</td>\n",
       "    </tr>\n",
       "    <tr>\n",
       "      <th>13398</th>\n",
       "      <td>Afghanistan</td>\n",
       "      <td>Access to water</td>\n",
       "      <td>2017</td>\n",
       "      <td>1</td>\n",
       "    </tr>\n",
       "    <tr>\n",
       "      <th>17864</th>\n",
       "      <td>Afghanistan</td>\n",
       "      <td>Access to water</td>\n",
       "      <td>2016</td>\n",
       "      <td>1</td>\n",
       "    </tr>\n",
       "    <tr>\n",
       "      <th>22330</th>\n",
       "      <td>Afghanistan</td>\n",
       "      <td>Access to water</td>\n",
       "      <td>2015</td>\n",
       "      <td>1</td>\n",
       "    </tr>\n",
       "    <tr>\n",
       "      <th>26796</th>\n",
       "      <td>Afghanistan</td>\n",
       "      <td>Access to water</td>\n",
       "      <td>2014</td>\n",
       "      <td>1</td>\n",
       "    </tr>\n",
       "    <tr>\n",
       "      <th>31262</th>\n",
       "      <td>Afghanistan</td>\n",
       "      <td>Access to water</td>\n",
       "      <td>2013</td>\n",
       "      <td>1</td>\n",
       "    </tr>\n",
       "    <tr>\n",
       "      <th>35728</th>\n",
       "      <td>Afghanistan</td>\n",
       "      <td>Access to water</td>\n",
       "      <td>2012</td>\n",
       "      <td>1</td>\n",
       "    </tr>\n",
       "    <tr>\n",
       "      <th>40194</th>\n",
       "      <td>Afghanistan</td>\n",
       "      <td>Access to water</td>\n",
       "      <td>2011</td>\n",
       "      <td>1</td>\n",
       "    </tr>\n",
       "    <tr>\n",
       "      <th>44660</th>\n",
       "      <td>Afghanistan</td>\n",
       "      <td>Access to water</td>\n",
       "      <td>2010</td>\n",
       "      <td>1</td>\n",
       "    </tr>\n",
       "    <tr>\n",
       "      <th>49126</th>\n",
       "      <td>Afghanistan</td>\n",
       "      <td>Access to water</td>\n",
       "      <td>2009</td>\n",
       "      <td>1</td>\n",
       "    </tr>\n",
       "    <tr>\n",
       "      <th>53592</th>\n",
       "      <td>Afghanistan</td>\n",
       "      <td>Access to water</td>\n",
       "      <td>2008</td>\n",
       "      <td>1</td>\n",
       "    </tr>\n",
       "    <tr>\n",
       "      <th>58058</th>\n",
       "      <td>Afghanistan</td>\n",
       "      <td>Access to water</td>\n",
       "      <td>2007</td>\n",
       "      <td>1</td>\n",
       "    </tr>\n",
       "    <tr>\n",
       "      <th>62524</th>\n",
       "      <td>Afghanistan</td>\n",
       "      <td>Access to water</td>\n",
       "      <td>2006</td>\n",
       "      <td>1</td>\n",
       "    </tr>\n",
       "    <tr>\n",
       "      <th>66990</th>\n",
       "      <td>Afghanistan</td>\n",
       "      <td>Access to water</td>\n",
       "      <td>2005</td>\n",
       "      <td>1</td>\n",
       "    </tr>\n",
       "    <tr>\n",
       "      <th>71456</th>\n",
       "      <td>Afghanistan</td>\n",
       "      <td>Access to water</td>\n",
       "      <td>2004</td>\n",
       "      <td>1</td>\n",
       "    </tr>\n",
       "  </tbody>\n",
       "</table>\n",
       "</div>"
      ],
      "text/plain": [
       "      Country_Name      Series_Name  Year Value\n",
       "0      Afghanistan  Access to water  2020     1\n",
       "4466   Afghanistan  Access to water  2019     1\n",
       "8932   Afghanistan  Access to water  2018     1\n",
       "13398  Afghanistan  Access to water  2017     1\n",
       "17864  Afghanistan  Access to water  2016     1\n",
       "22330  Afghanistan  Access to water  2015     1\n",
       "26796  Afghanistan  Access to water  2014     1\n",
       "31262  Afghanistan  Access to water  2013     1\n",
       "35728  Afghanistan  Access to water  2012     1\n",
       "40194  Afghanistan  Access to water  2011     1\n",
       "44660  Afghanistan  Access to water  2010     1\n",
       "49126  Afghanistan  Access to water  2009     1\n",
       "53592  Afghanistan  Access to water  2008     1\n",
       "58058  Afghanistan  Access to water  2007     1\n",
       "62524  Afghanistan  Access to water  2006     1\n",
       "66990  Afghanistan  Access to water  2005     1\n",
       "71456  Afghanistan  Access to water  2004     1"
      ]
     },
     "execution_count": 208,
     "metadata": {},
     "output_type": "execute_result"
    }
   ],
   "source": [
    "df_melted.loc[(df_melted.Country_Name == 'Afghanistan')\n",
    "        & (df_melted.Series_Name == 'Access to water')\n",
    "        & (df_melted.Year >= 2000)\n",
    "        & (df_melted.Year <= 2020)]"
   ]
  },
  {
   "cell_type": "markdown",
   "metadata": {},
   "source": [
    "# Spark"
   ]
  },
  {
   "cell_type": "code",
   "execution_count": 1,
   "metadata": {},
   "outputs": [],
   "source": [
    "from pyspark.sql import SparkSession"
   ]
  },
  {
   "cell_type": "code",
   "execution_count": 2,
   "metadata": {},
   "outputs": [
    {
     "ename": "NameError",
     "evalue": "name 'data_list' is not defined",
     "output_type": "error",
     "traceback": [
      "\u001b[0;31m---------------------------------------------------------------------------\u001b[0m",
      "\u001b[0;31mNameError\u001b[0m                                 Traceback (most recent call last)",
      "\u001b[1;32m/Users/danieldacosta/Documents/USC/dsci551/distributed-file-system/tools.ipynb Cell 56\u001b[0m in \u001b[0;36m<cell line: 1>\u001b[0;34m()\u001b[0m\n\u001b[0;32m----> <a href='vscode-notebook-cell:/Users/danieldacosta/Documents/USC/dsci551/distributed-file-system/tools.ipynb#Y106sZmlsZQ%3D%3D?line=0'>1</a>\u001b[0m data_list\n",
      "\u001b[0;31mNameError\u001b[0m: name 'data_list' is not defined"
     ]
    }
   ],
   "source": [
    "data_list"
   ]
  },
  {
   "cell_type": "code",
   "execution_count": 3,
   "metadata": {},
   "outputs": [],
   "source": [
    "# spark = SparkSession.builder.appName('DataLake_Ingestion').getOrCreate()"
   ]
  },
  {
   "cell_type": "code",
   "execution_count": 4,
   "metadata": {},
   "outputs": [
    {
     "name": "stderr",
     "output_type": "stream",
     "text": [
      "Setting default log level to \"WARN\".\n",
      "To adjust logging level use sc.setLogLevel(newLevel). For SparkR, use setLogLevel(newLevel).\n"
     ]
    },
    {
     "name": "stdout",
     "output_type": "stream",
     "text": [
      "22/11/15 21:28:46 WARN NativeCodeLoader: Unable to load native-hadoop library for your platform... using builtin-java classes where applicable\n"
     ]
    }
   ],
   "source": [
    "spark = SparkSession.builder.master(\"spark://3.82.248.62:7077\").getOrCreate()"
   ]
  },
  {
   "cell_type": "code",
   "execution_count": 5,
   "metadata": {},
   "outputs": [],
   "source": [
    "rdd = spark.sparkContext.parallelize([1,2,1,1,11])"
   ]
  },
  {
   "cell_type": "code",
   "execution_count": 6,
   "metadata": {},
   "outputs": [
    {
     "name": "stderr",
     "output_type": "stream",
     "text": [
      "[Stage 0:>                                                          (0 + 0) / 2]\r"
     ]
    },
    {
     "name": "stdout",
     "output_type": "stream",
     "text": [
      "22/11/15 21:29:35 WARN TaskSchedulerImpl: Initial job has not accepted any resources; check your cluster UI to ensure that workers are registered and have sufficient resources\n",
      "22/11/15 21:29:50 WARN TaskSchedulerImpl: Initial job has not accepted any resources; check your cluster UI to ensure that workers are registered and have sufficient resources\n",
      "22/11/15 21:30:05 WARN TaskSchedulerImpl: Initial job has not accepted any resources; check your cluster UI to ensure that workers are registered and have sufficient resources\n",
      "22/11/15 21:30:20 WARN TaskSchedulerImpl: Initial job has not accepted any resources; check your cluster UI to ensure that workers are registered and have sufficient resources\n"
     ]
    },
    {
     "name": "stderr",
     "output_type": "stream",
     "text": [
      "[Stage 0:>                                                          (0 + 0) / 2]\r"
     ]
    },
    {
     "name": "stdout",
     "output_type": "stream",
     "text": [
      "22/11/15 21:30:35 WARN TaskSchedulerImpl: Initial job has not accepted any resources; check your cluster UI to ensure that workers are registered and have sufficient resources\n",
      "22/11/15 21:30:50 WARN TaskSchedulerImpl: Initial job has not accepted any resources; check your cluster UI to ensure that workers are registered and have sufficient resources\n",
      "22/11/15 21:31:05 WARN TaskSchedulerImpl: Initial job has not accepted any resources; check your cluster UI to ensure that workers are registered and have sufficient resources\n",
      "22/11/15 21:31:20 WARN TaskSchedulerImpl: Initial job has not accepted any resources; check your cluster UI to ensure that workers are registered and have sufficient resources\n"
     ]
    },
    {
     "name": "stderr",
     "output_type": "stream",
     "text": [
      "[Stage 0:>                                                          (0 + 0) / 2]\r"
     ]
    },
    {
     "name": "stdout",
     "output_type": "stream",
     "text": [
      "22/11/15 21:31:35 WARN TaskSchedulerImpl: Initial job has not accepted any resources; check your cluster UI to ensure that workers are registered and have sufficient resources\n",
      "22/11/15 21:31:50 WARN TaskSchedulerImpl: Initial job has not accepted any resources; check your cluster UI to ensure that workers are registered and have sufficient resources\n",
      "22/11/15 21:32:05 WARN TaskSchedulerImpl: Initial job has not accepted any resources; check your cluster UI to ensure that workers are registered and have sufficient resources\n",
      "22/11/15 21:32:20 WARN TaskSchedulerImpl: Initial job has not accepted any resources; check your cluster UI to ensure that workers are registered and have sufficient resources\n"
     ]
    },
    {
     "name": "stderr",
     "output_type": "stream",
     "text": [
      "[Stage 0:>                                                          (0 + 0) / 2]\r"
     ]
    },
    {
     "name": "stdout",
     "output_type": "stream",
     "text": [
      "22/11/15 21:32:35 WARN TaskSchedulerImpl: Initial job has not accepted any resources; check your cluster UI to ensure that workers are registered and have sufficient resources\n",
      "22/11/15 21:32:50 WARN TaskSchedulerImpl: Initial job has not accepted any resources; check your cluster UI to ensure that workers are registered and have sufficient resources\n",
      "22/11/15 21:33:05 WARN TaskSchedulerImpl: Initial job has not accepted any resources; check your cluster UI to ensure that workers are registered and have sufficient resources\n",
      "22/11/15 21:33:20 WARN TaskSchedulerImpl: Initial job has not accepted any resources; check your cluster UI to ensure that workers are registered and have sufficient resources\n"
     ]
    },
    {
     "name": "stderr",
     "output_type": "stream",
     "text": [
      "[Stage 0:>                                                          (0 + 0) / 2]\r"
     ]
    },
    {
     "name": "stdout",
     "output_type": "stream",
     "text": [
      "22/11/15 21:33:35 WARN TaskSchedulerImpl: Initial job has not accepted any resources; check your cluster UI to ensure that workers are registered and have sufficient resources\n",
      "22/11/15 21:33:50 WARN TaskSchedulerImpl: Initial job has not accepted any resources; check your cluster UI to ensure that workers are registered and have sufficient resources\n",
      "22/11/15 21:34:05 WARN TaskSchedulerImpl: Initial job has not accepted any resources; check your cluster UI to ensure that workers are registered and have sufficient resources\n",
      "22/11/15 21:34:20 WARN TaskSchedulerImpl: Initial job has not accepted any resources; check your cluster UI to ensure that workers are registered and have sufficient resources\n"
     ]
    },
    {
     "name": "stderr",
     "output_type": "stream",
     "text": [
      "[Stage 0:>                                                          (0 + 0) / 2]\r"
     ]
    },
    {
     "name": "stdout",
     "output_type": "stream",
     "text": [
      "22/11/15 21:34:35 WARN TaskSchedulerImpl: Initial job has not accepted any resources; check your cluster UI to ensure that workers are registered and have sufficient resources\n",
      "22/11/15 21:34:50 WARN TaskSchedulerImpl: Initial job has not accepted any resources; check your cluster UI to ensure that workers are registered and have sufficient resources\n",
      "22/11/15 21:35:05 WARN TaskSchedulerImpl: Initial job has not accepted any resources; check your cluster UI to ensure that workers are registered and have sufficient resources\n",
      "22/11/15 21:35:20 WARN TaskSchedulerImpl: Initial job has not accepted any resources; check your cluster UI to ensure that workers are registered and have sufficient resources\n"
     ]
    },
    {
     "name": "stderr",
     "output_type": "stream",
     "text": [
      "[Stage 0:>                                                          (0 + 0) / 2]\r"
     ]
    },
    {
     "name": "stdout",
     "output_type": "stream",
     "text": [
      "22/11/15 21:35:35 WARN TaskSchedulerImpl: Initial job has not accepted any resources; check your cluster UI to ensure that workers are registered and have sufficient resources\n",
      "22/11/15 21:35:50 WARN TaskSchedulerImpl: Initial job has not accepted any resources; check your cluster UI to ensure that workers are registered and have sufficient resources\n",
      "22/11/15 21:36:05 WARN TaskSchedulerImpl: Initial job has not accepted any resources; check your cluster UI to ensure that workers are registered and have sufficient resources\n",
      "22/11/15 21:36:20 WARN TaskSchedulerImpl: Initial job has not accepted any resources; check your cluster UI to ensure that workers are registered and have sufficient resources\n"
     ]
    },
    {
     "name": "stderr",
     "output_type": "stream",
     "text": [
      "[Stage 0:>                                                          (0 + 0) / 2]\r"
     ]
    },
    {
     "name": "stdout",
     "output_type": "stream",
     "text": [
      "22/11/15 21:36:35 WARN TaskSchedulerImpl: Initial job has not accepted any resources; check your cluster UI to ensure that workers are registered and have sufficient resources\n",
      "22/11/15 21:36:50 WARN TaskSchedulerImpl: Initial job has not accepted any resources; check your cluster UI to ensure that workers are registered and have sufficient resources\n",
      "22/11/15 21:37:05 WARN TaskSchedulerImpl: Initial job has not accepted any resources; check your cluster UI to ensure that workers are registered and have sufficient resources\n",
      "22/11/15 21:37:20 WARN TaskSchedulerImpl: Initial job has not accepted any resources; check your cluster UI to ensure that workers are registered and have sufficient resources\n"
     ]
    },
    {
     "name": "stderr",
     "output_type": "stream",
     "text": [
      "ERROR:root:KeyboardInterrupt while sending command.                 (0 + 0) / 2]\n",
      "Traceback (most recent call last):\n",
      "  File \"/Users/danieldacosta/miniconda3/lib/python3.9/site-packages/py4j/java_gateway.py\", line 1038, in send_command\n",
      "    response = connection.send_command(command)\n",
      "  File \"/Users/danieldacosta/miniconda3/lib/python3.9/site-packages/py4j/clientserver.py\", line 511, in send_command\n",
      "    answer = smart_decode(self.stream.readline()[:-1])\n",
      "  File \"/Users/danieldacosta/miniconda3/lib/python3.9/socket.py\", line 704, in readinto\n",
      "    return self._sock.recv_into(b)\n",
      "KeyboardInterrupt\n"
     ]
    },
    {
     "ename": "KeyboardInterrupt",
     "evalue": "",
     "output_type": "error",
     "traceback": [
      "\u001b[0;31m---------------------------------------------------------------------------\u001b[0m",
      "\u001b[0;31mKeyboardInterrupt\u001b[0m                         Traceback (most recent call last)",
      "\u001b[1;32m/Users/danieldacosta/Documents/USC/dsci551/distributed-file-system/tools.ipynb Cell 60\u001b[0m in \u001b[0;36m<cell line: 1>\u001b[0;34m()\u001b[0m\n\u001b[0;32m----> <a href='vscode-notebook-cell:/Users/danieldacosta/Documents/USC/dsci551/distributed-file-system/tools.ipynb#Y115sZmlsZQ%3D%3D?line=0'>1</a>\u001b[0m rdd\u001b[39m.\u001b[39;49mcount()\n",
      "File \u001b[0;32m~/miniconda3/lib/python3.9/site-packages/pyspark/rdd.py:1521\u001b[0m, in \u001b[0;36mRDD.count\u001b[0;34m(self)\u001b[0m\n\u001b[1;32m   1512\u001b[0m \u001b[39mdef\u001b[39;00m \u001b[39mcount\u001b[39m(\u001b[39mself\u001b[39m) \u001b[39m-\u001b[39m\u001b[39m>\u001b[39m \u001b[39mint\u001b[39m:\n\u001b[1;32m   1513\u001b[0m     \u001b[39m\"\"\"\u001b[39;00m\n\u001b[1;32m   1514\u001b[0m \u001b[39m    Return the number of elements in this RDD.\u001b[39;00m\n\u001b[1;32m   1515\u001b[0m \n\u001b[0;32m   (...)\u001b[0m\n\u001b[1;32m   1519\u001b[0m \u001b[39m    3\u001b[39;00m\n\u001b[1;32m   1520\u001b[0m \u001b[39m    \"\"\"\u001b[39;00m\n\u001b[0;32m-> 1521\u001b[0m     \u001b[39mreturn\u001b[39;00m \u001b[39mself\u001b[39;49m\u001b[39m.\u001b[39;49mmapPartitions(\u001b[39mlambda\u001b[39;49;00m i: [\u001b[39msum\u001b[39;49m(\u001b[39m1\u001b[39;49m \u001b[39mfor\u001b[39;49;00m _ \u001b[39min\u001b[39;49;00m i)])\u001b[39m.\u001b[39;49msum()\n",
      "File \u001b[0;32m~/miniconda3/lib/python3.9/site-packages/pyspark/rdd.py:1508\u001b[0m, in \u001b[0;36mRDD.sum\u001b[0;34m(self)\u001b[0m\n\u001b[1;32m   1499\u001b[0m \u001b[39mdef\u001b[39;00m \u001b[39msum\u001b[39m(\u001b[39mself\u001b[39m: \u001b[39m\"\u001b[39m\u001b[39mRDD[NumberOrArray]\u001b[39m\u001b[39m\"\u001b[39m) \u001b[39m-\u001b[39m\u001b[39m>\u001b[39m \u001b[39m\"\u001b[39m\u001b[39mNumberOrArray\u001b[39m\u001b[39m\"\u001b[39m:\n\u001b[1;32m   1500\u001b[0m     \u001b[39m\"\"\"\u001b[39;00m\n\u001b[1;32m   1501\u001b[0m \u001b[39m    Add up the elements in this RDD.\u001b[39;00m\n\u001b[1;32m   1502\u001b[0m \n\u001b[0;32m   (...)\u001b[0m\n\u001b[1;32m   1506\u001b[0m \u001b[39m    6.0\u001b[39;00m\n\u001b[1;32m   1507\u001b[0m \u001b[39m    \"\"\"\u001b[39;00m\n\u001b[0;32m-> 1508\u001b[0m     \u001b[39mreturn\u001b[39;00m \u001b[39mself\u001b[39;49m\u001b[39m.\u001b[39;49mmapPartitions(\u001b[39mlambda\u001b[39;49;00m x: [\u001b[39msum\u001b[39;49m(x)])\u001b[39m.\u001b[39;49mfold(  \u001b[39m# type: ignore[return-value]\u001b[39;49;00m\n\u001b[1;32m   1509\u001b[0m         \u001b[39m0\u001b[39;49m, operator\u001b[39m.\u001b[39;49madd\n\u001b[1;32m   1510\u001b[0m     )\n",
      "File \u001b[0;32m~/miniconda3/lib/python3.9/site-packages/pyspark/rdd.py:1336\u001b[0m, in \u001b[0;36mRDD.fold\u001b[0;34m(self, zeroValue, op)\u001b[0m\n\u001b[1;32m   1331\u001b[0m     \u001b[39myield\u001b[39;00m acc\n\u001b[1;32m   1333\u001b[0m \u001b[39m# collecting result of mapPartitions here ensures that the copy of\u001b[39;00m\n\u001b[1;32m   1334\u001b[0m \u001b[39m# zeroValue provided to each partition is unique from the one provided\u001b[39;00m\n\u001b[1;32m   1335\u001b[0m \u001b[39m# to the final reduce call\u001b[39;00m\n\u001b[0;32m-> 1336\u001b[0m vals \u001b[39m=\u001b[39m \u001b[39mself\u001b[39;49m\u001b[39m.\u001b[39;49mmapPartitions(func)\u001b[39m.\u001b[39;49mcollect()\n\u001b[1;32m   1337\u001b[0m \u001b[39mreturn\u001b[39;00m reduce(op, vals, zeroValue)\n",
      "File \u001b[0;32m~/miniconda3/lib/python3.9/site-packages/pyspark/rdd.py:1197\u001b[0m, in \u001b[0;36mRDD.collect\u001b[0;34m(self)\u001b[0m\n\u001b[1;32m   1195\u001b[0m \u001b[39mwith\u001b[39;00m SCCallSiteSync(\u001b[39mself\u001b[39m\u001b[39m.\u001b[39mcontext):\n\u001b[1;32m   1196\u001b[0m     \u001b[39massert\u001b[39;00m \u001b[39mself\u001b[39m\u001b[39m.\u001b[39mctx\u001b[39m.\u001b[39m_jvm \u001b[39mis\u001b[39;00m \u001b[39mnot\u001b[39;00m \u001b[39mNone\u001b[39;00m\n\u001b[0;32m-> 1197\u001b[0m     sock_info \u001b[39m=\u001b[39m \u001b[39mself\u001b[39;49m\u001b[39m.\u001b[39;49mctx\u001b[39m.\u001b[39;49m_jvm\u001b[39m.\u001b[39;49mPythonRDD\u001b[39m.\u001b[39;49mcollectAndServe(\u001b[39mself\u001b[39;49m\u001b[39m.\u001b[39;49m_jrdd\u001b[39m.\u001b[39;49mrdd())\n\u001b[1;32m   1198\u001b[0m \u001b[39mreturn\u001b[39;00m \u001b[39mlist\u001b[39m(_load_from_socket(sock_info, \u001b[39mself\u001b[39m\u001b[39m.\u001b[39m_jrdd_deserializer))\n",
      "File \u001b[0;32m~/miniconda3/lib/python3.9/site-packages/py4j/java_gateway.py:1320\u001b[0m, in \u001b[0;36mJavaMember.__call__\u001b[0;34m(self, *args)\u001b[0m\n\u001b[1;32m   1313\u001b[0m args_command, temp_args \u001b[39m=\u001b[39m \u001b[39mself\u001b[39m\u001b[39m.\u001b[39m_build_args(\u001b[39m*\u001b[39margs)\n\u001b[1;32m   1315\u001b[0m command \u001b[39m=\u001b[39m proto\u001b[39m.\u001b[39mCALL_COMMAND_NAME \u001b[39m+\u001b[39m\\\n\u001b[1;32m   1316\u001b[0m     \u001b[39mself\u001b[39m\u001b[39m.\u001b[39mcommand_header \u001b[39m+\u001b[39m\\\n\u001b[1;32m   1317\u001b[0m     args_command \u001b[39m+\u001b[39m\\\n\u001b[1;32m   1318\u001b[0m     proto\u001b[39m.\u001b[39mEND_COMMAND_PART\n\u001b[0;32m-> 1320\u001b[0m answer \u001b[39m=\u001b[39m \u001b[39mself\u001b[39;49m\u001b[39m.\u001b[39;49mgateway_client\u001b[39m.\u001b[39;49msend_command(command)\n\u001b[1;32m   1321\u001b[0m return_value \u001b[39m=\u001b[39m get_return_value(\n\u001b[1;32m   1322\u001b[0m     answer, \u001b[39mself\u001b[39m\u001b[39m.\u001b[39mgateway_client, \u001b[39mself\u001b[39m\u001b[39m.\u001b[39mtarget_id, \u001b[39mself\u001b[39m\u001b[39m.\u001b[39mname)\n\u001b[1;32m   1324\u001b[0m \u001b[39mfor\u001b[39;00m temp_arg \u001b[39min\u001b[39;00m temp_args:\n",
      "File \u001b[0;32m~/miniconda3/lib/python3.9/site-packages/py4j/java_gateway.py:1038\u001b[0m, in \u001b[0;36mGatewayClient.send_command\u001b[0;34m(self, command, retry, binary)\u001b[0m\n\u001b[1;32m   1036\u001b[0m connection \u001b[39m=\u001b[39m \u001b[39mself\u001b[39m\u001b[39m.\u001b[39m_get_connection()\n\u001b[1;32m   1037\u001b[0m \u001b[39mtry\u001b[39;00m:\n\u001b[0;32m-> 1038\u001b[0m     response \u001b[39m=\u001b[39m connection\u001b[39m.\u001b[39;49msend_command(command)\n\u001b[1;32m   1039\u001b[0m     \u001b[39mif\u001b[39;00m binary:\n\u001b[1;32m   1040\u001b[0m         \u001b[39mreturn\u001b[39;00m response, \u001b[39mself\u001b[39m\u001b[39m.\u001b[39m_create_connection_guard(connection)\n",
      "File \u001b[0;32m~/miniconda3/lib/python3.9/site-packages/py4j/clientserver.py:511\u001b[0m, in \u001b[0;36mClientServerConnection.send_command\u001b[0;34m(self, command)\u001b[0m\n\u001b[1;32m    509\u001b[0m \u001b[39mtry\u001b[39;00m:\n\u001b[1;32m    510\u001b[0m     \u001b[39mwhile\u001b[39;00m \u001b[39mTrue\u001b[39;00m:\n\u001b[0;32m--> 511\u001b[0m         answer \u001b[39m=\u001b[39m smart_decode(\u001b[39mself\u001b[39;49m\u001b[39m.\u001b[39;49mstream\u001b[39m.\u001b[39;49mreadline()[:\u001b[39m-\u001b[39m\u001b[39m1\u001b[39m])\n\u001b[1;32m    512\u001b[0m         logger\u001b[39m.\u001b[39mdebug(\u001b[39m\"\u001b[39m\u001b[39mAnswer received: \u001b[39m\u001b[39m{0}\u001b[39;00m\u001b[39m\"\u001b[39m\u001b[39m.\u001b[39mformat(answer))\n\u001b[1;32m    513\u001b[0m         \u001b[39m# Happens when a the other end is dead. There might be an empty\u001b[39;00m\n\u001b[1;32m    514\u001b[0m         \u001b[39m# answer before the socket raises an error.\u001b[39;00m\n",
      "File \u001b[0;32m~/miniconda3/lib/python3.9/socket.py:704\u001b[0m, in \u001b[0;36mSocketIO.readinto\u001b[0;34m(self, b)\u001b[0m\n\u001b[1;32m    702\u001b[0m \u001b[39mwhile\u001b[39;00m \u001b[39mTrue\u001b[39;00m:\n\u001b[1;32m    703\u001b[0m     \u001b[39mtry\u001b[39;00m:\n\u001b[0;32m--> 704\u001b[0m         \u001b[39mreturn\u001b[39;00m \u001b[39mself\u001b[39;49m\u001b[39m.\u001b[39;49m_sock\u001b[39m.\u001b[39;49mrecv_into(b)\n\u001b[1;32m    705\u001b[0m     \u001b[39mexcept\u001b[39;00m timeout:\n\u001b[1;32m    706\u001b[0m         \u001b[39mself\u001b[39m\u001b[39m.\u001b[39m_timeout_occurred \u001b[39m=\u001b[39m \u001b[39mTrue\u001b[39;00m\n",
      "\u001b[0;31mKeyboardInterrupt\u001b[0m: "
     ]
    }
   ],
   "source": [
    "rdd.count()"
   ]
  },
  {
   "cell_type": "markdown",
   "metadata": {},
   "source": []
  }
 ],
 "metadata": {
  "kernelspec": {
   "display_name": "Python 3.9.12 ('base')",
   "language": "python",
   "name": "python3"
  },
  "language_info": {
   "codemirror_mode": {
    "name": "ipython",
    "version": 3
   },
   "file_extension": ".py",
   "mimetype": "text/x-python",
   "name": "python",
   "nbconvert_exporter": "python",
   "pygments_lexer": "ipython3",
   "version": "3.9.12"
  },
  "orig_nbformat": 4,
  "vscode": {
   "interpreter": {
    "hash": "ed29fcc266c631214eb0a32dcb461d51a7279cf73c87ecfbb65b364d13f4dbad"
   }
  }
 },
 "nbformat": 4,
 "nbformat_minor": 2
}
