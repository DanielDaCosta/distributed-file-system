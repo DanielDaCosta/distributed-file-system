{
 "cells": [
  {
   "cell_type": "code",
   "execution_count": 7,
   "metadata": {},
   "outputs": [],
   "source": [
    "from edfs.firebase import ls, \\\n",
    "    mkdir, rm\n"
   ]
  },
  {
   "cell_type": "code",
   "execution_count": 148,
   "metadata": {},
   "outputs": [],
   "source": [
    "import pandas as pd\n",
    "import requests\n",
    "import json\n",
    "\n",
    "firebase_url = 'https://dsci551-project-52d43-default-rtdb.firebaseio.com/'\n",
    "\n",
    "def seek(path):\n",
    "    url = firebase_url + path + '.json'\n",
    "    try:\n",
    "        rget = requests.get(url)\n",
    "        return rget\n",
    "    except:\n",
    "        print('ERROR')\n",
    "        \n",
    "\n",
    "def ls(path: str) -> str:\n",
    "    '''List files under path/.\n",
    "\n",
    "    Args:\n",
    "        path (str): path starting from NameNode/\n",
    "    Returns:\n",
    "        (str) Success or Error message\n",
    "    '''\n",
    "    slist = seek(f\"NameNode/{path}\")\n",
    "    rlist = slist.json()\n",
    "\n",
    "    result_list = []\n",
    "\n",
    "    if type(rlist) == dict: # iterate over rlist if rlist != None\n",
    "        for key, value in rlist.items():\n",
    "            if key == \"_\": # empty directory\n",
    "                continue\n",
    "            if type(value) == dict: # if item is folder, add '/' to the end of thge string\n",
    "                result_list.append(key + \"/\")\n",
    "            else:\n",
    "                result_list.append(key)\n",
    "        output = 'empty' if not result_list else ', '.join(result_list)\n",
    "    elif not rlist:\n",
    "        output = f'Path {path} not found'\n",
    "    else: \n",
    "        output = f'{path} is not a folder'\n",
    "    \n",
    "    return output\n",
    "\n",
    "def mkdir(path: str) -> str:\n",
    "    '''Create directory if not exists\n",
    "\n",
    "    Args:\n",
    "        path: relative path to NameNode/\n",
    "    Returns:\n",
    "        (str) Success or Error message\n",
    "    '''\n",
    "    full_path = f'NameNode/{path}'\n",
    "    if seek(full_path).json() is None:\n",
    "        url = firebase_url + full_path + '.json'\n",
    "        data = '{\"_\" : \"_\"}' # empty directory\n",
    "        r = requests.put(url,data)\n",
    "        output = f'Directory {path} created'\n",
    "    else:\n",
    "        output  = 'Directory ' + path + ' already exists'\n",
    "    return output"
   ]
  },
  {
   "cell_type": "code",
   "execution_count": 171,
   "metadata": {},
   "outputs": [],
   "source": [
    "def rm(path: str) -> str:\n",
    "    '''Delete directory if exists\n",
    "\n",
    "    Args:\n",
    "        path: relative path to NameNode/\n",
    "    Returns:\n",
    "        (str) Success or Error message\n",
    "    '''\n",
    "    full_path = f'NameNode/{path}'\n",
    "    if seek(full_path).json() is None:\n",
    "        output = 'Directory not found'\n",
    "    else:\n",
    "        url = firebase_url + full_path + '.json'\n",
    "        d = requests.delete(url)\n",
    "        if d.status_code == 200:\n",
    "            output = path + ' was succefully deleted'\n",
    "    return output"
   ]
  },
  {
   "cell_type": "code",
   "execution_count": 169,
   "metadata": {},
   "outputs": [
    {
     "data": {
      "text/plain": [
       "'root/daniel was succefully deleted'"
      ]
     },
     "execution_count": 169,
     "metadata": {},
     "output_type": "execute_result"
    }
   ],
   "source": [
    "rm(\"root/daniel\")"
   ]
  },
  {
   "cell_type": "code",
   "execution_count": 161,
   "metadata": {},
   "outputs": [
    {
     "data": {
      "text/plain": [
       "'Directory data2/China already exists'"
      ]
     },
     "execution_count": 161,
     "metadata": {},
     "output_type": "execute_result"
    }
   ],
   "source": [
    "mkdir(\"data2/China\")"
   ]
  },
  {
   "cell_type": "code",
   "execution_count": 120,
   "metadata": {},
   "outputs": [],
   "source": [
    "input_text = \"ls dsdadsada dasd\"\n",
    "input = input_text.split(' ')"
   ]
  },
  {
   "cell_type": "code",
   "execution_count": 151,
   "metadata": {},
   "outputs": [],
   "source": [
    "input_text = \"ls root/daniel/test2\""
   ]
  },
  {
   "cell_type": "code",
   "execution_count": 152,
   "metadata": {},
   "outputs": [
    {
     "name": "stdout",
     "output_type": "stream",
     "text": [
      "empty\n"
     ]
    }
   ],
   "source": [
    "functions = {'ls': ls, 'mkdir': mkdir, 'rm': rm}\n",
    "\n",
    "input = input_text.split(' ')\n",
    "function_name = input[0]\n",
    "params = input[1:]\n",
    "\n",
    "try:\n",
    "    output = functions[function_name](*params)\n",
    "except KeyError:\n",
    "    output = \"Command not found. Valid commands: ls, mkdir, rm, put, getPartitionLocations, readPartition\"\n",
    "except TypeError:\n",
    "    output = \"Please verify function required arguments\"\n",
    "print(output)"
   ]
  },
  {
   "cell_type": "code",
   "execution_count": 81,
   "metadata": {},
   "outputs": [
    {
     "data": {
      "text/plain": [
       "['user']"
      ]
     },
     "execution_count": 81,
     "metadata": {},
     "output_type": "execute_result"
    }
   ],
   "source": [
    "functions[function_name](*params)"
   ]
  },
  {
   "cell_type": "code",
   "execution_count": 38,
   "metadata": {},
   "outputs": [
    {
     "ename": "SyntaxError",
     "evalue": "can't use starred expression here (3345456506.py, line 1)",
     "output_type": "error",
     "traceback": [
      "\u001b[0;36m  Input \u001b[0;32mIn [38]\u001b[0;36m\u001b[0m\n\u001b[0;31m    *args\u001b[0m\n\u001b[0m    ^\u001b[0m\n\u001b[0;31mSyntaxError\u001b[0m\u001b[0;31m:\u001b[0m can't use starred expression here\n"
     ]
    }
   ],
   "source": [
    "*args"
   ]
  },
  {
   "cell_type": "code",
   "execution_count": 15,
   "metadata": {},
   "outputs": [],
   "source": [
    "args = (2,3)"
   ]
  },
  {
   "cell_type": "code",
   "execution_count": 16,
   "metadata": {},
   "outputs": [
    {
     "ename": "TypeError",
     "evalue": "func1() missing 1 required positional argument: 'c'",
     "output_type": "error",
     "traceback": [
      "\u001b[0;31m---------------------------------------------------------------------------\u001b[0m",
      "\u001b[0;31mTypeError\u001b[0m                                 Traceback (most recent call last)",
      "\u001b[1;32m/Users/danieldacosta/Documents/USC/dsci551/distributed-file-system/tools.ipynb Cell 9\u001b[0m in \u001b[0;36m<cell line: 1>\u001b[0;34m()\u001b[0m\n\u001b[0;32m----> <a href='vscode-notebook-cell:/Users/danieldacosta/Documents/USC/dsci551/distributed-file-system/tools.ipynb#W5sZmlsZQ%3D%3D?line=0'>1</a>\u001b[0m func1(\u001b[39m*\u001b[39;49margs)\n",
      "\u001b[0;31mTypeError\u001b[0m: func1() missing 1 required positional argument: 'c'"
     ]
    }
   ],
   "source": [
    "func1(*args)"
   ]
  },
  {
   "cell_type": "code",
   "execution_count": null,
   "metadata": {},
   "outputs": [],
   "source": []
  }
 ],
 "metadata": {
  "kernelspec": {
   "display_name": "Python 3.9.12 ('base')",
   "language": "python",
   "name": "python3"
  },
  "language_info": {
   "codemirror_mode": {
    "name": "ipython",
    "version": 3
   },
   "file_extension": ".py",
   "mimetype": "text/x-python",
   "name": "python",
   "nbconvert_exporter": "python",
   "pygments_lexer": "ipython3",
   "version": "3.9.12"
  },
  "orig_nbformat": 4,
  "vscode": {
   "interpreter": {
    "hash": "ed29fcc266c631214eb0a32dcb461d51a7279cf73c87ecfbb65b364d13f4dbad"
   }
  }
 },
 "nbformat": 4,
 "nbformat_minor": 2
}
