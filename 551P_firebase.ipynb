{
 "cells": [
  {
   "cell_type": "markdown",
   "id": "cf67f1db",
   "metadata": {},
   "source": [
    "## DSCI 551 Project\n",
    "\n",
    "Create an emulation-based system for distributed file storage and parallel computation. <br>\n",
    "1. Building an emulated distributed file system (EDFS) <br>\n",
    "- EDFS should support the following commands, similar to that in HDFS:\n",
    "    - mkdir: create a directory in file system, e.g., *mdkir /user/john\n",
    "    - ls: listing content of a given directory, e.g., *ls /user\n",
    "    - cat: display content of a file, e.g., *cat /user/john/hello.txt\n",
    "    - rm: remove a file from the file system, e.g., *rm /user/john/hello.txt\n",
    "    - put: uploading file to a file system, e.g., *put (car.csv, /user/john, k = # partitions)* will upload a file cars.csv to the directory /user/john in EDFS. **But note that the file should be stored in k partitions, and the file system should remember where the partitions are stored.** you should design a method to partition data. you may also have the user indicate the method, e.g., hashing on certain car attribute, in the put method. \n",
    "    - getPartitionLocations(file): this method will return the location of partitions of the file.\n",
    "    - readPartition(file, partition #): this method will return the content of partion # of the specified file. the portioned data will be needed in the second task for parallel processing. \n",
    "- **Note that EDFS should store the metadata about the file system** (similar to that in NameNode of HDFS, but much simplified). **Metadata include file system structure, attributes of files, and location of partitions storing the contents of files.** You can limit the type of files stored in the file system to certain format, e.g., .csv or JSON. \n",
    "<br><br>\n",
    "\n",
    "#### Google Firebase address : https://dsci551-project-52d43-default-rtdb.firebaseio.com/\n",
    "### Statistical Capacity Indicators \n",
    "###### Statistical Capacity Indicators provides information on various aspects of national statistical systems of developing countries, including an overall country-level statistical capacity indicator. Last Updated:02/03/2021\n",
    "#### Data from : https://databank.worldbank.org/source/statistical-capacity-indicators# \n",
    "\n",
    "\n"
   ]
  },
  {
   "cell_type": "code",
   "execution_count": 68,
   "id": "dc63e90c",
   "metadata": {},
   "outputs": [],
   "source": [
    "import pandas as pd\n",
    "import requests\n",
    "import json\n",
    "\n",
    "data = pd.read_csv('Data_Extract_From_Statistical_Capacity_Indicators/Stats_Cap_Ind.csv').dropna()\\\n",
    ".rename(columns = {\n",
    "    \"Country Name\" : \"country_name\", \n",
    "    \"Country Code\" : \"country_code\", \n",
    "    \"Series Name\" : \"series_name\",\n",
    "    \"Series Code\" : \"series_code\",\n",
    "    \"2004 [YR2004]\" : \"2004\",\n",
    "    \"2005 [YR2005]\" : \"2005\",\n",
    "    \"2006 [YR2006]\" : \"2006\",\n",
    "    \"2007 [YR2007]\" : \"2007\",\n",
    "    \"2008 [YR2008]\" : \"2008\",\n",
    "    \"2009 [YR2009]\" : \"2009\",\n",
    "    \"2010 [YR2010]\" : \"2010\",\n",
    "    \"2011 [YR2011]\" : \"2011\",\n",
    "    \"2012 [YR2012]\" : \"2012\",\n",
    "    \"2013 [YR2013]\" : \"2013\",\n",
    "    \"2014 [YR2014]\" : \"2014\",\n",
    "    \"2015 [YR2015]\" : \"2015\",\n",
    "    \"2016 [YR2016]\" : \"2016\",\n",
    "    \"2017 [YR2017]\" : \"2017\",\n",
    "    \"2018 [YR2018]\" : \"2018\",\n",
    "    \"2019 [YR2019]\" : \"2019\",\n",
    "    \"2020 [YR2020]\" : \"2020\" })"
   ]
  },
  {
   "cell_type": "code",
   "execution_count": 69,
   "id": "c3be002e",
   "metadata": {},
   "outputs": [],
   "source": [
    "# creating a list of country names, country code, series name, series code, and years of the data collected\n",
    "cname = data.country_name.unique().tolist()\n",
    "ccode = data.country_code.unique().tolist()\n",
    "sname = data.series_name.tolist()\n",
    "scode = data.series_code.tolist()\n",
    "years = [n for n in data.columns if n.isnumeric()]\n",
    "# replacement of symbols that are invalid in Firebase\n",
    "cname2 = [sub.replace ('.','') for sub in cname]\n",
    "sname2 = [sub.replace('/','-') for sub in sname]\n"
   ]
  },
  {
   "cell_type": "code",
   "execution_count": 70,
   "id": "23e8e713",
   "metadata": {},
   "outputs": [],
   "source": [
    "dc = dict()\n",
    "for z in cname2:\n",
    "#     print(z)\n",
    "    dc[z]=dict(zip(years, [dict()]*len(years)))\n",
    "    t = data[data['country_name'] == z]    \n",
    "    for y in years:\n",
    "        dc[z][y]=dict(zip(sname2,t[y]))\n",
    "    \n",
    "#     print (dc[z])"
   ]
  },
  {
   "cell_type": "code",
   "execution_count": 71,
   "id": "d649daea",
   "metadata": {
    "scrolled": true
   },
   "outputs": [],
   "source": [
    "dc_json = json.dumps(dc)\n"
   ]
  },
  {
   "cell_type": "code",
   "execution_count": 72,
   "id": "3762cc48",
   "metadata": {},
   "outputs": [
    {
     "data": {
      "text/plain": [
       "<Response [200]>"
      ]
     },
     "execution_count": 72,
     "metadata": {},
     "output_type": "execute_result"
    }
   ],
   "source": [
    "putResponse = requests.put('https://dsci551-project-52d43-default-rtdb.firebaseio.com/data.json', dc_json)\n",
    "putResponse"
   ]
  },
  {
   "cell_type": "code",
   "execution_count": null,
   "id": "1152d839",
   "metadata": {},
   "outputs": [],
   "source": []
  }
 ],
 "metadata": {
  "kernelspec": {
   "display_name": "Python 3 (ipykernel)",
   "language": "python",
   "name": "python3"
  },
  "language_info": {
   "codemirror_mode": {
    "name": "ipython",
    "version": 3
   },
   "file_extension": ".py",
   "mimetype": "text/x-python",
   "name": "python",
   "nbconvert_exporter": "python",
   "pygments_lexer": "ipython3",
   "version": "3.9.7"
  }
 },
 "nbformat": 4,
 "nbformat_minor": 5
}
